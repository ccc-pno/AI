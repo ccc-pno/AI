{
 "cells": [
  {
   "cell_type": "code",
   "execution_count": 2,
   "metadata": {},
   "outputs": [],
   "source": [
    "import torch\n",
    "import torch.nn as nn\n",
    "import torch.nn.functional as F\n",
    "import torchvision\n",
    "import torchvision.transforms as transforms\n",
    "import numpy as np\n",
    "import torch.optim as optim\n",
    "import pandas as pd\n",
    "from sklearn.model_selection import train_test_split"
   ]
  },
  {
   "cell_type": "code",
   "execution_count": 3,
   "metadata": {},
   "outputs": [],
   "source": [
    "# 定义一些超参数\n",
    "train_batch_size = 64\n",
    "test_batch_size = 1000\n",
    "learning_rate = 0.01\n",
    "epoches = 3\n",
    "lr = 0.01\n",
    "momentum = 0.9"
   ]
  },
  {
   "cell_type": "code",
   "execution_count": 4,
   "metadata": {},
   "outputs": [
    {
     "name": "stdout",
     "output_type": "stream",
     "text": [
      "train_data.shape: (42000, 785)\n",
      "train_set.shape: (33600, 785)\n",
      "val_set.shape: (8400, 785)\n"
     ]
    }
   ],
   "source": [
    "# 准备训练、验证数据\n",
    "def train_val_split(train='train.csv',train_file='train_set.csv',val_file='val_set.csv'):\n",
    "    train_data = pd.read_csv(train)\n",
    "    train_set, val_set = train_test_split(train_data, random_state=666, test_size=0.2)\n",
    "    train_set.to_csv(train_file, index=False)\n",
    "    val_set.to_csv(val_file, index=False)\n",
    "    print('train_data.shape:',train_data.shape)\n",
    "    print('train_set.shape:',train_set.shape)\n",
    "    print('val_set.shape:',val_set.shape)\n",
    "\n",
    "train_val_split(train='train.csv')"
   ]
  },
  {
   "cell_type": "code",
   "execution_count": 5,
   "metadata": {},
   "outputs": [],
   "source": [
    "# 预处理、读取数据\n",
    "def transform(x):\n",
    "    x = np.array(x, dtype='float32') / 255\n",
    "    x = (x - 0.5) / 0.5\n",
    "    x = torch.from_numpy(x)\n",
    "    return x\n",
    "# transform = transforms.Compose(\n",
    "#     [transforms.ToTensor(),\n",
    "#      transforms.Normalize((0.5,0.5,0.5),(0.5,0.5,0.5))   #三个颜色通道的平均值，三个颜色通道的标准差\n",
    "#      #transforms.Flip()  #旋转\n",
    "#     ]\n",
    "# )\n",
    "\n",
    "class MyMNIST(torch.utils.data.Dataset):\n",
    "    def __init__(self,datatxt,train=True,transform=transform,target_trainform=None):\n",
    "        self.data = pd.read_csv(datatxt)\n",
    "        self.transform = transform\n",
    "        self.train = train\n",
    "        if self.train:\n",
    "            self.X = self.data.iloc[:,1:]\n",
    "            self.X = np.array(self.X)\n",
    "            self.y = self.data.iloc[:,0]\n",
    "            self.y = np.array(self.y)\n",
    "        else:\n",
    "            self.X=self.data\n",
    "            self.X=np.array(self.X)\n",
    "            \n",
    "    def __getitem__(self,index):\n",
    "        im = torch.tensor(self.X[index],dtype=torch.float)\n",
    "        if self.transform is not None:\n",
    "            im=self.transform(im)\n",
    "            im=im.reshape([1,28,28])\n",
    "            if self.train:\n",
    "                label=torch.tensor(self.y[index],dtype=torch.long)\n",
    "                return im,label\n",
    "            else:\n",
    "                return im\n",
    "            \n",
    "    def __len__(self):\n",
    "        return len(self.data)\n",
    "    \n",
    "# 使用ImageFolder去读取，返回后的数据路径和标签对应起来\n",
    "# all_dataset = datasets.ImageFolder('../data/amazon/images', transform=data_transform)\n",
    "\n",
    "# 使用random_split实现数据集的划分，lengths是一个list，按照对应的数量返回数据个数。\n",
    "# 这儿需要注意的是，lengths的数据量总和等于all_dataset中的数据个数，这儿不是按比例划分的\n",
    "# train, test, valid = torch.utils.data.random_split(dataset= all_dataset, lengths=[2000, 417, 400])\n",
    "    \n",
    "X_train = MyMNIST(datatxt='train_set.csv',train=True,transform=transform)\n",
    "X_val = MyMNIST(datatxt='val_set.csv',train=True,transform=transform)\n",
    "X_test  = MyMNIST(datatxt='test.csv',train=False,transform=transform)\n",
    "\n",
    "train_data = torch.utils.data.DataLoader(X_train,batch_size=64,shuffle=True)\n",
    "val_data = torch.utils.data.DataLoader(X_val, batch_size=64, shuffle=False)\n",
    "test_data = torch.utils.data.DataLoader(X_test, batch_size=1000, shuffle=False)"
   ]
  },
  {
   "cell_type": "code",
   "execution_count": 12,
   "metadata": {},
   "outputs": [
    {
     "ename": "AttributeError",
     "evalue": "'DataLoader' object has no attribute 'show_batch'",
     "output_type": "error",
     "traceback": [
      "\u001b[1;31m---------------------------------------------------------------------------\u001b[0m",
      "\u001b[1;31mAttributeError\u001b[0m                            Traceback (most recent call last)",
      "\u001b[1;32m<ipython-input-12-a535e4c20a1d>\u001b[0m in \u001b[0;36m<module>\u001b[1;34m\u001b[0m\n\u001b[1;32m----> 1\u001b[1;33m \u001b[0mtrain_data\u001b[0m\u001b[1;33m.\u001b[0m\u001b[0mshow_batch\u001b[0m\u001b[1;33m(\u001b[0m\u001b[0mrow\u001b[0m\u001b[1;33m=\u001b[0m\u001b[1;36m3\u001b[0m\u001b[1;33m)\u001b[0m\u001b[1;33m\u001b[0m\u001b[1;33m\u001b[0m\u001b[0m\n\u001b[0m",
      "\u001b[1;31mAttributeError\u001b[0m: 'DataLoader' object has no attribute 'show_batch'"
     ]
    }
   ],
   "source": [
    "X_train.show_batch(row=3)"
   ]
  },
  {
   "cell_type": "code",
   "execution_count": 6,
   "metadata": {},
   "outputs": [
    {
     "data": {
      "image/png": "[encoded data removed]",
      "text/plain": [
       "<Figure size 432x288 with 6 Axes>"
      ]
     },
     "metadata": {},
     "output_type": "display_data"
    }
   ],
   "source": [
    "# 可视化\n",
    "import matplotlib.pyplot as plt\n",
    "%matplotlib inline\n",
    "\n",
    "examples = enumerate(train_data)\n",
    "batch_idx, [example_data, example_targets] = next(examples)\n",
    "\n",
    "fig = plt.figure()\n",
    "for i in range(6):\n",
    "    plt.subplot(2,3,i+1)\n",
    "    plt.tight_layout()\n",
    "    plt.imshow(example_data[i][0], cmap='gray', interpolation='none')\n",
    "    plt.title(\"Ground Truth: {}\".format(example_targets[i]))\n",
    "    plt.xticks([])\n",
    "    plt.yticks([])"
   ]
  },
  {
   "cell_type": "code",
   "execution_count": 7,
   "metadata": {},
   "outputs": [],
   "source": [
    "# 构建网络\n",
    "class LeNet_simple(nn.Module):\n",
    "    def __init__(self):\n",
    "        super(LeNet_simple,self).__init__()\n",
    "        self.layer1 = nn.Sequential(\n",
    "            # (N=64,C=1,H=28,W=28)\n",
    "            nn.Conv2d(in_channels=1,out_channels=6,kernel_size=3,padding=1),\n",
    "            # (N=64,C=6,H=28,W=28)\n",
    "            nn.MaxPool2d(2,2)\n",
    "            # (N=64,C=6,H=14,W=14)\n",
    "        )\n",
    "        self.layer2 = nn.Sequential(\n",
    "            nn.Conv2d(in_channels=6,out_channels=16,kernel_size=5,padding=0),\n",
    "            # (N=64,C=16,H=10,W=10)\n",
    "            nn.MaxPool2d(2,2)\n",
    "            # (N=64,C=16,H=5,W=5)\n",
    "        )\n",
    "        self.layer3 = nn.Sequential(\n",
    "            nn.Linear(400,120),\n",
    "            nn.Linear(120,84),\n",
    "            nn.Linear(84,10)\n",
    "        )\n",
    "        \n",
    "    def forward(self,x):\n",
    "        x = self.layer1(x)\n",
    "        x = self.layer2(x)\n",
    "        x = x.view(x.size(0),-1)\n",
    "        x = self.layer3(x)\n",
    "        return x"
   ]
  },
  {
   "cell_type": "code",
   "execution_count": 8,
   "metadata": {
    "scrolled": true
   },
   "outputs": [
    {
     "name": "stdout",
     "output_type": "stream",
     "text": [
      "i: 0\n",
      "data: tensor([[[[-1., -1., -1.,  ..., -1., -1., -1.],\n",
      "          [-1., -1., -1.,  ..., -1., -1., -1.],\n",
      "          [-1., -1., -1.,  ..., -1., -1., -1.],\n",
      "          ...,\n",
      "          [-1., -1., -1.,  ..., -1., -1., -1.],\n",
      "          [-1., -1., -1.,  ..., -1., -1., -1.],\n",
      "          [-1., -1., -1.,  ..., -1., -1., -1.]]],\n",
      "\n",
      "\n",
      "        [[[-1., -1., -1.,  ..., -1., -1., -1.],\n",
      "          [-1., -1., -1.,  ..., -1., -1., -1.],\n",
      "          [-1., -1., -1.,  ..., -1., -1., -1.],\n",
      "          ...,\n",
      "          [-1., -1., -1.,  ..., -1., -1., -1.],\n",
      "          [-1., -1., -1.,  ..., -1., -1., -1.],\n",
      "          [-1., -1., -1.,  ..., -1., -1., -1.]]],\n",
      "\n",
      "\n",
      "        [[[-1., -1., -1.,  ..., -1., -1., -1.],\n",
      "          [-1., -1., -1.,  ..., -1., -1., -1.],\n",
      "          [-1., -1., -1.,  ..., -1., -1., -1.],\n",
      "          ...,\n",
      "          [-1., -1., -1.,  ..., -1., -1., -1.],\n",
      "          [-1., -1., -1.,  ..., -1., -1., -1.],\n",
      "          [-1., -1., -1.,  ..., -1., -1., -1.]]],\n",
      "\n",
      "\n",
      "        ...,\n",
      "\n",
      "\n",
      "        [[[-1., -1., -1.,  ..., -1., -1., -1.],\n",
      "          [-1., -1., -1.,  ..., -1., -1., -1.],\n",
      "          [-1., -1., -1.,  ..., -1., -1., -1.],\n",
      "          ...,\n",
      "          [-1., -1., -1.,  ..., -1., -1., -1.],\n",
      "          [-1., -1., -1.,  ..., -1., -1., -1.],\n",
      "          [-1., -1., -1.,  ..., -1., -1., -1.]]],\n",
      "\n",
      "\n",
      "        [[[-1., -1., -1.,  ..., -1., -1., -1.],\n",
      "          [-1., -1., -1.,  ..., -1., -1., -1.],\n",
      "          [-1., -1., -1.,  ..., -1., -1., -1.],\n",
      "          ...,\n",
      "          [-1., -1., -1.,  ..., -1., -1., -1.],\n",
      "          [-1., -1., -1.,  ..., -1., -1., -1.],\n",
      "          [-1., -1., -1.,  ..., -1., -1., -1.]]],\n",
      "\n",
      "\n",
      "        [[[-1., -1., -1.,  ..., -1., -1., -1.],\n",
      "          [-1., -1., -1.,  ..., -1., -1., -1.],\n",
      "          [-1., -1., -1.,  ..., -1., -1., -1.],\n",
      "          ...,\n",
      "          [-1., -1., -1.,  ..., -1., -1., -1.],\n",
      "          [-1., -1., -1.,  ..., -1., -1., -1.],\n",
      "          [-1., -1., -1.,  ..., -1., -1., -1.]]]])\n",
      "Label: tensor([5, 4, 6, 8, 1, 1, 9, 1, 9, 2, 9, 4, 7, 5, 5, 0, 9, 8, 7, 3, 2, 6, 7, 5,\n",
      "        3, 2, 2, 0, 3, 5, 4, 8, 1, 5, 6, 6, 3, 3, 4, 4, 0, 3, 4, 9, 0, 2, 9, 7,\n",
      "        7, 3, 5, 5, 7, 7, 2, 2, 9, 4, 7, 0, 6, 9, 6, 2])\n"
     ]
    }
   ],
   "source": [
    "# 批量读取\n",
    "for i,traindata in enumerate(train_data):\n",
    "    print('i:',i)\n",
    "    Data,Label=traindata\n",
    "    print('data:',Data)\n",
    "    print('Label:',Label)\n",
    "    break\n",
    "\n",
    "# 迭代\n",
    "dataiter=iter(train_data)\n",
    "imgs,labels=next(dataiter)"
   ]
  },
  {
   "cell_type": "code",
   "execution_count": 9,
   "metadata": {},
   "outputs": [
    {
     "name": "stdout",
     "output_type": "stream",
     "text": [
      "cpu\n",
      "第100次：Loss：0.30787381529808044 ; Accuracy：0.90625\n",
      "第200次：Loss：0.3105652928352356 ; Accuracy：0.890625\n",
      "第300次：Loss：0.2055513709783554 ; Accuracy：0.90625\n",
      "第400次：Loss：0.3453071117401123 ; Accuracy：0.90625\n",
      "第500次：Loss：0.07642819732427597 ; Accuracy：0.96875\n"
     ]
    },
    {
     "ename": "KeyboardInterrupt",
     "evalue": "",
     "output_type": "error",
     "traceback": [
      "\u001b[1;31m---------------------------------------------------------------------------\u001b[0m",
      "\u001b[1;31mKeyboardInterrupt\u001b[0m                         Traceback (most recent call last)",
      "\u001b[1;32m<ipython-input-9-21e062a84393>\u001b[0m in \u001b[0;36m<module>\u001b[1;34m\u001b[0m\n\u001b[0;32m     55\u001b[0m \u001b[1;31m#         with torch.no_grad():\u001b[0m\u001b[1;33m\u001b[0m\u001b[1;33m\u001b[0m\u001b[1;33m\u001b[0m\u001b[0m\n\u001b[0;32m     56\u001b[0m         \u001b[0mimgs\u001b[0m\u001b[1;33m,\u001b[0m\u001b[0mlabels\u001b[0m \u001b[1;33m=\u001b[0m \u001b[0mmini_batch\u001b[0m\u001b[1;33m\u001b[0m\u001b[1;33m\u001b[0m\u001b[0m\n\u001b[1;32m---> 57\u001b[1;33m         \u001b[0mimgs\u001b[0m \u001b[1;33m=\u001b[0m \u001b[0mimgs\u001b[0m\u001b[1;33m.\u001b[0m\u001b[0mto\u001b[0m\u001b[1;33m(\u001b[0m\u001b[0mdevice\u001b[0m\u001b[1;33m)\u001b[0m\u001b[1;33m\u001b[0m\u001b[1;33m\u001b[0m\u001b[0m\n\u001b[0m\u001b[0;32m     58\u001b[0m         \u001b[0mlabels\u001b[0m \u001b[1;33m=\u001b[0m \u001b[0mlabels\u001b[0m\u001b[1;33m.\u001b[0m\u001b[0mto\u001b[0m\u001b[1;33m(\u001b[0m\u001b[0mdevice\u001b[0m\u001b[1;33m)\u001b[0m\u001b[1;33m\u001b[0m\u001b[1;33m\u001b[0m\u001b[0m\n\u001b[0;32m     59\u001b[0m         \u001b[0mval_out\u001b[0m \u001b[1;33m=\u001b[0m \u001b[0mnet\u001b[0m\u001b[1;33m(\u001b[0m\u001b[0mimgs\u001b[0m\u001b[1;33m)\u001b[0m\u001b[1;33m\u001b[0m\u001b[1;33m\u001b[0m\u001b[0m\n",
      "\u001b[1;31mKeyboardInterrupt\u001b[0m: "
     ]
    }
   ],
   "source": [
    "def Accuracy(out,labels):\n",
    "    correct=0.0\n",
    "    total=0.0\n",
    "    _,predicted = torch.max(out.data, 1)\n",
    "    correct += (predicted==labels).sum()\n",
    "    total += labels.size(0)\n",
    "    accuracy = correct/total\n",
    "    return accuracy\n",
    "\n",
    "# 初始化\n",
    "# 检测是否有可用的GPU, 有则使用, 否则使用CPU\n",
    "device = torch.device(\"cuda:0\" if torch.cuda.is_available() else \"cpu\")\n",
    "print(device)\n",
    "net = LeNet_simple()\n",
    "criterion = nn.CrossEntropyLoss()\n",
    "optimizer = torch.optim.Adam(net.parameters(),lr=lr,betas=(0.9,0.99))\n",
    "i=0\n",
    "\n",
    "# 训练过程\n",
    "for epoch in range(1):\n",
    "#     train, valid = get_k_fold_data(10,epoch,train_data,None)\n",
    "    train_loss=[]\n",
    "    accuracy=0.\n",
    "    correct=0.\n",
    "    total=0.\n",
    "    \n",
    "    #动态修改参数学习率\n",
    "    if epoch%5==0:\n",
    "        optimizer.param_groups[0]['lr']*=0.1\n",
    "        \n",
    "    net.train()\n",
    "    for j,mini_batch in enumerate(train_data):\n",
    "        \"\"\"训练\"\"\"\n",
    "        # 将数据copy到GPU上\n",
    "        imgs,labels=mini_batch\n",
    "        imgs=imgs.to(device)\n",
    "        labels = labels.to(device)\n",
    "        # 前向传播\n",
    "        out = net(imgs)\n",
    "        loss = criterion(out,labels)\n",
    "        # 反向传播\n",
    "        optimizer.zero_grad()\n",
    "        loss.backward()\n",
    "        optimizer.step()\n",
    "        # 输出信息\n",
    "        i+=1\n",
    "        accuracy=Accuracy(out,labels)\n",
    "        if i%100==0:\n",
    "            print(\"第{}次：Loss：{} ; Accuracy：{}\".format(i,loss,accuracy))\n",
    "            train_loss.append((i,loss))\n",
    "    \n",
    "    net.eval()\n",
    "    for j,mini_batch in enumerate(val_data):\n",
    "        \"\"\"验证\"\"\"\n",
    "#         with torch.no_grad():\n",
    "        imgs,labels = mini_batch\n",
    "        imgs = imgs.to(device)\n",
    "        labels = labels.to(device)\n",
    "        val_out = net(imgs)\n",
    "        val_loss = criterion(val_out,labels)\n",
    "        accuracy = Accuracy(val_out,labels)\n",
    "    \n",
    "    # 保存loss的数据与epoch数值\n",
    "    writer.add_scalar('训练损失值', loss, epoch)\n",
    "    writer.add_scalar('验证损失值', val_loss, epoch)\n",
    "                \n",
    "    print(\"准确度为{}.\".format(accuracy))"
   ]
  },
  {
   "cell_type": "code",
   "execution_count": null,
   "metadata": {},
   "outputs": [],
   "source": [
    "# tensorboardX\n",
    "\n",
    "# 实例化SummaryWriter\n",
    "from tensorboardX import SummaryWriter\n",
    "import torchvision\n",
    "#实例化SummaryWriter, 并指明日志存放路径。在当前目录没有logs目录将自动创建。\n",
    "writer = SummaryWriter(log_dir=r'C:\\Users\\Administrator\\Desktop\\Kaggle\\digit\\logs')\n",
    "#调用实例\n",
    "input = torch.rand(64, 1, 28, 28)\n",
    "with SummaryWriter(log_dir=r'C:\\Users\\Administrator\\Desktop\\Kaggle\\digit\\logs',comment='net') as w:\n",
    "    w.add_graph(net, (input, ))\n",
    "\n",
    "# import os\n",
    "# os.system(r'tensorboard --logdir=\\'C:\\Users\\Administrator\\Desktop\\Kaggle\\digit\\logs\\' --port 6006')\n",
    "\n",
    "#关闭writer\n",
    "writer.close()\n",
    "\n",
    "\n",
    "\n"
   ]
  },
  {
   "cell_type": "code",
   "execution_count": null,
   "metadata": {},
   "outputs": [],
   "source": [
    "for name, layer in net._modules.items():\n",
    "    print(name)\n",
    "    print(layer)"
   ]
  },
  {
   "cell_type": "code",
   "execution_count": null,
   "metadata": {},
   "outputs": [],
   "source": []
  }
 ],
 "metadata": {
  "kernelspec": {
   "display_name": "Python 3",
   "language": "python",
   "name": "python3"
  },
  "language_info": {
   "codemirror_mode": {
    "name": "ipython",
    "version": 3
   },
   "file_extension": ".py",
   "mimetype": "text/x-python",
   "name": "python",
   "nbconvert_exporter": "python",
   "pygments_lexer": "ipython3",
   "version": "3.7.7"
  }
 },
 "nbformat": 4,
 "nbformat_minor": 4
}
