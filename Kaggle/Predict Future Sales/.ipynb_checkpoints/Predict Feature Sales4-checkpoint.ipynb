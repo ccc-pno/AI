{
 "cells": [
  {
   "cell_type": "markdown",
   "metadata": {},
   "source": [
    "##### 您将获得每日历史销售数据。任务是预测测试集在每个商店中出售的产品总数。请注意，商店和产品的清单每月都会略有变化。创建可以处理此类情况的可靠模型是挑战的一部分。\n",
    "\n",
    "\n",
    "##### 档案说明：\n",
    "##### sales_train.csv-训练集。2013年1月至2015年10月的每日历史数据。\n",
    "##### test.csv-测试集。您需要预测这些商店和产品在2015年11月的销售额。\n",
    "##### sample_submission.csv-格式正确的示例提交文件。\n",
    "##### items.csv-有关项目/产品的补充信息。\n",
    "##### item_categories.csv-   有关项目类别的补充信息。\n",
    "##### shop.csv-有关商店的补充信息。\n",
    "\n",
    "\n",
    "##### 资料栏位：\n",
    "##### ID-  代表测试集中的（商店，商品）元组的ID\n",
    "##### shop_id-商店的唯一标识符\n",
    "##### item_id-产品的唯一标识符\n",
    "##### item_category_id-项目类别的唯一标识符\n",
    "##### item_cnt_day-销售的产品数量。您正在预测该指标的每月金额\n",
    "##### item_price-商品的当前价格\n",
    "##### 日期  -格式为dd / mm / yyyy的日期\n",
    "##### date_block_num-连续的月份号，为方便起见。2013年1月为0,2013年2月为1，...，2015年10月为33\n",
    "##### item_name-  项目名称\n",
    "##### shop_name-商店名称\n",
    "##### item_category_name-项目类别名称"
   ]
  },
  {
   "cell_type": "code",
   "execution_count": 1,
   "metadata": {},
   "outputs": [],
   "source": [
    "import numpy as np\n",
    "import pandas as pd \n",
    "import matplotlib.pyplot as plt\n",
    "import seaborn as sns\n",
    "from sklearn.preprocessing import LabelEncoder\n",
    "from itertools import product"
   ]
  },
  {
   "cell_type": "code",
   "execution_count": 20,
   "metadata": {},
   "outputs": [],
   "source": [
    "df_test = pd.read_csv('test.csv').copy()\n",
    "df_train = pd.read_csv('sales_train.csv').copy()\n",
    "items = pd.read_csv('items.csv').copy()\n",
    "# item_categories = pd.read_csv('item_categories.csv').copy()\n",
    "# shops = pd.read_csv('shops.csv').copy()\n",
    "# sample_submission = pd.read_csv('sample_submission.csv').copy()"
   ]
  },
  {
   "cell_type": "code",
   "execution_count": 3,
   "metadata": {},
   "outputs": [
    {
     "ename": "NameError",
     "evalue": "name 'df_train' is not defined",
     "output_type": "error",
     "traceback": [
      "\u001b[1;31m---------------------------------------------------------------------------\u001b[0m",
      "\u001b[1;31mNameError\u001b[0m                                 Traceback (most recent call last)",
      "\u001b[1;32m<ipython-input-3-bd369b5abc6b>\u001b[0m in \u001b[0;36m<module>\u001b[1;34m\u001b[0m\n\u001b[1;32m----> 1\u001b[1;33m \u001b[0mdf_train\u001b[0m\u001b[1;33m.\u001b[0m\u001b[0mcount\u001b[0m\u001b[1;33m(\u001b[0m\u001b[1;33m)\u001b[0m\u001b[1;33m\u001b[0m\u001b[1;33m\u001b[0m\u001b[0m\n\u001b[0m",
      "\u001b[1;31mNameError\u001b[0m: name 'df_train' is not defined"
     ]
    }
   ],
   "source": [
    "df_train.count()"
   ]
  },
  {
   "cell_type": "markdown",
   "metadata": {},
   "source": [
    "# 特征工程"
   ]
  },
  {
   "cell_type": "code",
   "execution_count": 3,
   "metadata": {},
   "outputs": [
    {
     "data": {
      "text/html": [
       "<div>\n",
       "<style scoped>\n",
       "    .dataframe tbody tr th:only-of-type {\n",
       "        vertical-align: middle;\n",
       "    }\n",
       "\n",
       "    .dataframe tbody tr th {\n",
       "        vertical-align: top;\n",
       "    }\n",
       "\n",
       "    .dataframe thead th {\n",
       "        text-align: right;\n",
       "    }\n",
       "</style>\n",
       "<table border=\"1\" class=\"dataframe\">\n",
       "  <thead>\n",
       "    <tr style=\"text-align: right;\">\n",
       "      <th></th>\n",
       "      <th>shop_id</th>\n",
       "      <th>item_id</th>\n",
       "      <th>month_id</th>\n",
       "      <th>item_cnt_month</th>\n",
       "    </tr>\n",
       "  </thead>\n",
       "  <tbody>\n",
       "    <tr>\n",
       "      <td>0</td>\n",
       "      <td>0</td>\n",
       "      <td>30</td>\n",
       "      <td>1</td>\n",
       "      <td>31</td>\n",
       "    </tr>\n",
       "    <tr>\n",
       "      <td>1</td>\n",
       "      <td>0</td>\n",
       "      <td>31</td>\n",
       "      <td>1</td>\n",
       "      <td>11</td>\n",
       "    </tr>\n",
       "    <tr>\n",
       "      <td>2</td>\n",
       "      <td>0</td>\n",
       "      <td>32</td>\n",
       "      <td>0</td>\n",
       "      <td>6</td>\n",
       "    </tr>\n",
       "    <tr>\n",
       "      <td>3</td>\n",
       "      <td>0</td>\n",
       "      <td>32</td>\n",
       "      <td>1</td>\n",
       "      <td>10</td>\n",
       "    </tr>\n",
       "    <tr>\n",
       "      <td>4</td>\n",
       "      <td>0</td>\n",
       "      <td>33</td>\n",
       "      <td>0</td>\n",
       "      <td>3</td>\n",
       "    </tr>\n",
       "    <tr>\n",
       "      <td>...</td>\n",
       "      <td>...</td>\n",
       "      <td>...</td>\n",
       "      <td>...</td>\n",
       "      <td>...</td>\n",
       "    </tr>\n",
       "    <tr>\n",
       "      <td>1608220</td>\n",
       "      <td>59</td>\n",
       "      <td>22164</td>\n",
       "      <td>27</td>\n",
       "      <td>2</td>\n",
       "    </tr>\n",
       "    <tr>\n",
       "      <td>1608221</td>\n",
       "      <td>59</td>\n",
       "      <td>22164</td>\n",
       "      <td>30</td>\n",
       "      <td>1</td>\n",
       "    </tr>\n",
       "    <tr>\n",
       "      <td>1608222</td>\n",
       "      <td>59</td>\n",
       "      <td>22167</td>\n",
       "      <td>9</td>\n",
       "      <td>1</td>\n",
       "    </tr>\n",
       "    <tr>\n",
       "      <td>1608223</td>\n",
       "      <td>59</td>\n",
       "      <td>22167</td>\n",
       "      <td>11</td>\n",
       "      <td>2</td>\n",
       "    </tr>\n",
       "    <tr>\n",
       "      <td>1608224</td>\n",
       "      <td>59</td>\n",
       "      <td>22167</td>\n",
       "      <td>17</td>\n",
       "      <td>1</td>\n",
       "    </tr>\n",
       "  </tbody>\n",
       "</table>\n",
       "<p>1608225 rows × 4 columns</p>\n",
       "</div>"
      ],
      "text/plain": [
       "         shop_id  item_id  month_id  item_cnt_month\n",
       "0              0       30         1              31\n",
       "1              0       31         1              11\n",
       "2              0       32         0               6\n",
       "3              0       32         1              10\n",
       "4              0       33         0               3\n",
       "...          ...      ...       ...             ...\n",
       "1608220       59    22164        27               2\n",
       "1608221       59    22164        30               1\n",
       "1608222       59    22167         9               1\n",
       "1608223       59    22167        11               2\n",
       "1608224       59    22167        17               1\n",
       "\n",
       "[1608225 rows x 4 columns]"
      ]
     },
     "execution_count": 3,
     "metadata": {},
     "output_type": "execute_result"
    }
   ],
   "source": [
    "#删除异常数据\n",
    "train_data = df_train.drop(df_train[df_train.item_price < 0].index | df_train[df_train.item_price >= 100000].index)\n",
    "train_data = df_train.drop(df_train[df_train.item_cnt_day < 0].index | df_train[df_train.item_cnt_day >= 1000].index)\n",
    "\n",
    "train_data1 = pd.pivot_table(train_data, index=['shop_id','item_id','date_block_num'], values=['item_cnt_day'], aggfunc=[np.sum],fill_value=0).reset_index();\n",
    "train_data1.columns = train_data1.columns.droplevel().map(str)\n",
    "train_data1 = train_data1.reset_index(drop=True).rename_axis(None, axis=1)\n",
    "train_data1.columns.values[0]=\"shop_id\";\n",
    "train_data1.columns.values[1]=\"item_id\";\n",
    "train_data1.columns.values[2]=\"month_id\";\n",
    "train_data1.columns.values[3]=\"item_cnt_month\";\n",
    "\n",
    "train_data1"
   ]
  },
  {
   "cell_type": "code",
   "execution_count": 5,
   "metadata": {
    "scrolled": true
   },
   "outputs": [
    {
     "name": "stdout",
     "output_type": "stream",
     "text": [
      "<class 'pandas.core.frame.DataFrame'>\n",
      "Int64Index: 10884554 entries, 139168 to 10741269\n",
      "Data columns (total 3 columns):\n",
      "month_id    int8\n",
      "shop_id     int8\n",
      "item_id     int16\n",
      "dtypes: int16(1), int8(2)\n",
      "memory usage: 124.6 MB\n",
      "None\n",
      "<class 'pandas.core.frame.DataFrame'>\n",
      "Int64Index: 10884554 entries, 0 to 10884553\n",
      "Data columns (total 5 columns):\n",
      "month_id          int8\n",
      "shop_id           int8\n",
      "item_id           int16\n",
      "item_cnt_month    float16\n",
      "month_id1         int8\n",
      "dtypes: float16(1), int16(1), int8(3)\n",
      "memory usage: 155.7 MB\n",
      "None\n"
     ]
    }
   ],
   "source": [
    "matrix = []\n",
    "cols = ['month_id','shop_id','item_id']\n",
    "for i in range(34):\n",
    "    sales = train_data[train_data.date_block_num==i]\n",
    "    matrix.append(np.array(list(product([i], sales.shop_id.unique(), sales.item_id.unique())), dtype='int16'))\n",
    "matrix = pd.DataFrame(np.vstack(matrix), columns=cols)\n",
    "matrix['month_id'] = matrix['month_id'].astype(np.int8)\n",
    "matrix['shop_id'] = matrix['shop_id'].astype(np.int8)\n",
    "matrix['item_id'] = matrix['item_id'].astype(np.int16)\n",
    "matrix.sort_values(cols, inplace=True)\n",
    "print(matrix.info())\n",
    "\n",
    "train_data1 = pd.pivot_table(train_data, index=['shop_id','item_id','date_block_num'], values=['item_cnt_day'], aggfunc=[np.sum],\n",
    "fill_value=0).reset_index();\n",
    "train_data1.columns = train_data1.columns.droplevel().map(str)\n",
    "train_data1 = train_data1.reset_index(drop=True).rename_axis(None, axis=1)\n",
    "train_data1.columns.values[0]=\"shop_id\";\n",
    "train_data1.columns.values[1]=\"item_id\";\n",
    "train_data1.columns.values[2]=\"month_id\";\n",
    "train_data1.columns.values[3]=\"item_cnt_month\";\n",
    "\n",
    "#合并matrix和train_data1数据\n",
    "train_data1 = pd.merge(matrix, train_data1, on=[\"shop_id\", \"item_id\", \"month_id\"], how='left')\n",
    "train_data1['item_cnt_month'] = (train_data1['item_cnt_month'].fillna(0).astype(np.float16))\n",
    "train_data1[\"month_id1\"] = train_data1[\"month_id\"] % 12;\n",
    "print(train_data1.info())"
   ]
  },
  {
   "cell_type": "code",
   "execution_count": 57,
   "metadata": {},
   "outputs": [
    {
     "data": {
      "text/plain": [
       "item_id              0\n",
       "month_id             0\n",
       "item_total_month1    0\n",
       "dtype: int64"
      ]
     },
     "execution_count": 57,
     "metadata": {},
     "output_type": "execute_result"
    }
   ],
   "source": [
    "item_cnt.isnull().sum()"
   ]
  },
  {
   "cell_type": "code",
   "execution_count": 14,
   "metadata": {},
   "outputs": [],
   "source": [
    "train_data2 = pd.pivot_table(df_train, index=['shop_id','item_id','date_block_num'], values=['item_cnt_day'], aggfunc=[np.sum],\n",
    "fill_value=0).reset_index();\n",
    "train_data2.columns = train_data2.columns.droplevel().map(str)\n",
    "train_data2 = train_data2.reset_index(drop=True).rename_axis(None, axis=1)\n",
    "train_data2.columns.values[0]=\"shop_id\";\n",
    "train_data2.columns.values[1]=\"item_id\";\n",
    "train_data2.columns.values[2]=\"month_id\";\n",
    "train_data2.columns.values[3]=\"item_cnt_month1\";\n",
    "train_data2[\"month_id\"] = train_data2[\"month_id\"] + 1;\n",
    "\n",
    "item_price1 = pd.pivot_table(df_train, index=['item_id','date_block_num'], values=['item_price'], aggfunc=[np.mean], fill_value=0).reset_index();\n",
    "item_price1.columns = item_price1.columns.droplevel().map(str)\n",
    "item_price1 = item_price1.reset_index(drop=True).rename_axis(None, axis=1)\n",
    "item_price1.columns.values[0]=\"item_id\";\n",
    "item_price1.columns.values[1]=\"month_id\";\n",
    "item_price1.columns.values[2]=\"item_mean_price1\";\n",
    "item_price1[\"month_id\"] = item_price1[\"month_id\"] + 1;\n",
    "\n",
    "shop_cnt = pd.pivot_table(train_data1, index=['shop_id','month_id'], values=['item_cnt_month'], aggfunc=[np.mean], fill_value=0).reset_index();\n",
    "shop_cnt.columns = shop_cnt.columns.droplevel().map(str)\n",
    "shop_cnt = shop_cnt.reset_index(drop=True).rename_axis(None, axis=1)\n",
    "shop_cnt.columns.values[0]=\"shop_id\";\n",
    "shop_cnt.columns.values[1]=\"month_id\";\n",
    "shop_cnt.columns.values[2]=\"shop_cnt_month1\";\n",
    "shop_cnt[\"month_id\"] = shop_cnt[\"month_id\"] + 1;\n",
    "\n",
    "item_cnt = pd.pivot_table(train_data1, index=['item_id','month_id'], values=['item_cnt_month'], aggfunc=[np.mean], fill_value=0).reset_index();\n",
    "item_cnt.columns = item_cnt.columns.droplevel().map(str)\n",
    "item_cnt = item_cnt.reset_index(drop=True).rename_axis(None, axis=1)\n",
    "item_cnt.columns.values[0]=\"item_id\";\n",
    "item_cnt.columns.values[1]=\"month_id\";\n",
    "item_cnt.columns.values[2]=\"item_total_month1\";\n",
    "item_cnt[\"month_id\"] = item_cnt[\"month_id\"] + 1;"
   ]
  },
  {
   "cell_type": "code",
   "execution_count": 21,
   "metadata": {},
   "outputs": [
    {
     "name": "stderr",
     "output_type": "stream",
     "text": [
      "/Users/apple/opt/anaconda3/lib/python3.7/site-packages/pandas/core/frame.py:7123: FutureWarning: Sorting because non-concatenation axis is not aligned. A future version\n",
      "of pandas will change to not sort by default.\n",
      "\n",
      "To accept the future behavior, pass 'sort=False'.\n",
      "\n",
      "To retain the current behavior and silence the warning, pass 'sort=True'.\n",
      "\n",
      "  sort=sort,\n"
     ]
    }
   ],
   "source": [
    "combined_data = train_data1.append(df_test);\n",
    "#合并上述的五个特征到训练集中\n",
    "combined_data = pd.merge(combined_data, train_data2, on = ['shop_id', 'item_id','month_id'], how = 'left')\n",
    "combined_data[\"item_cnt_month1\"].fillna(0, inplace=True)\n",
    "\n",
    "combined_data = pd.merge(combined_data, item_price1, on = ['item_id','month_id'], how = 'left')\n",
    "combined_data[\"item_mean_price1\"].fillna(0, inplace=True)\n",
    "\n",
    "combined_data = pd.merge(combined_data, shop_cnt, on = ['shop_id','month_id'], how = 'left')\n",
    "combined_data[\"shop_cnt_month1\"].fillna(0, inplace=True)\n",
    "\n",
    "combined_data = pd.merge(combined_data, item_cnt, on = ['item_id', 'month_id'], how = 'left')\n",
    "combined_data[\"item_total_month1\"].fillna(0, inplace=True)\n",
    "\n",
    "combined_data = pd.merge(combined_data, items, on = ['item_id'], how = 'left')\n",
    "combined_data[\"item_category_id\"].fillna(0, inplace=True)"
   ]
  },
  {
   "cell_type": "code",
   "execution_count": 61,
   "metadata": {},
   "outputs": [
    {
     "data": {
      "text/plain": [
       "ID                   10884554\n",
       "item_id                     0\n",
       "month_id               214200\n",
       "month_id1              214200\n",
       "shop_id                     0\n",
       "item_cnt_month1             0\n",
       "item_mean_price1            0\n",
       "shop_cnt_month1             0\n",
       "item_total_month1           0\n",
       "item_category_id            0\n",
       "dtype: int64"
      ]
     },
     "execution_count": 61,
     "metadata": {},
     "output_type": "execute_result"
    }
   ],
   "source": [
    "combined_data = combined_data.drop(['item_name', 'item_cnt_month'],axis=1)\n",
    "combined_data.isnull().sum()\n",
    "# combined_data"
   ]
  },
  {
   "cell_type": "markdown",
   "metadata": {},
   "source": [
    "# 训练模型"
   ]
  },
  {
   "cell_type": "code",
   "execution_count": 72,
   "metadata": {
    "scrolled": true
   },
   "outputs": [],
   "source": [
    "train = combined_data[combined_data.ID.isnull()].drop('ID', axis=1)\n",
    "test = combined_data[combined_data.ID.notnull()].drop(['ID','item_cnt_month1'], axis=1)\n",
    "X = train.drop('item_cnt_month1', axis=1)\n",
    "y = train['item_cnt_month1']"
   ]
  },
  {
   "cell_type": "code",
   "execution_count": 76,
   "metadata": {},
   "outputs": [
    {
     "data": {
      "text/html": [
       "<div>\n",
       "<style scoped>\n",
       "    .dataframe tbody tr th:only-of-type {\n",
       "        vertical-align: middle;\n",
       "    }\n",
       "\n",
       "    .dataframe tbody tr th {\n",
       "        vertical-align: top;\n",
       "    }\n",
       "\n",
       "    .dataframe thead th {\n",
       "        text-align: right;\n",
       "    }\n",
       "</style>\n",
       "<table border=\"1\" class=\"dataframe\">\n",
       "  <thead>\n",
       "    <tr style=\"text-align: right;\">\n",
       "      <th></th>\n",
       "      <th>item_id</th>\n",
       "      <th>month_id</th>\n",
       "      <th>month_id1</th>\n",
       "      <th>shop_id</th>\n",
       "      <th>item_mean_price1</th>\n",
       "      <th>shop_cnt_month1</th>\n",
       "      <th>item_total_month1</th>\n",
       "      <th>item_category_id</th>\n",
       "    </tr>\n",
       "  </thead>\n",
       "  <tbody>\n",
       "    <tr>\n",
       "      <td>10884554</td>\n",
       "      <td>5037</td>\n",
       "      <td>NaN</td>\n",
       "      <td>NaN</td>\n",
       "      <td>5</td>\n",
       "      <td>0.0</td>\n",
       "      <td>0.0</td>\n",
       "      <td>0.0</td>\n",
       "      <td>19</td>\n",
       "    </tr>\n",
       "    <tr>\n",
       "      <td>10884555</td>\n",
       "      <td>5320</td>\n",
       "      <td>NaN</td>\n",
       "      <td>NaN</td>\n",
       "      <td>5</td>\n",
       "      <td>0.0</td>\n",
       "      <td>0.0</td>\n",
       "      <td>0.0</td>\n",
       "      <td>55</td>\n",
       "    </tr>\n",
       "    <tr>\n",
       "      <td>10884556</td>\n",
       "      <td>5233</td>\n",
       "      <td>NaN</td>\n",
       "      <td>NaN</td>\n",
       "      <td>5</td>\n",
       "      <td>0.0</td>\n",
       "      <td>0.0</td>\n",
       "      <td>0.0</td>\n",
       "      <td>19</td>\n",
       "    </tr>\n",
       "    <tr>\n",
       "      <td>10884557</td>\n",
       "      <td>5232</td>\n",
       "      <td>NaN</td>\n",
       "      <td>NaN</td>\n",
       "      <td>5</td>\n",
       "      <td>0.0</td>\n",
       "      <td>0.0</td>\n",
       "      <td>0.0</td>\n",
       "      <td>23</td>\n",
       "    </tr>\n",
       "    <tr>\n",
       "      <td>10884558</td>\n",
       "      <td>5268</td>\n",
       "      <td>NaN</td>\n",
       "      <td>NaN</td>\n",
       "      <td>5</td>\n",
       "      <td>0.0</td>\n",
       "      <td>0.0</td>\n",
       "      <td>0.0</td>\n",
       "      <td>20</td>\n",
       "    </tr>\n",
       "    <tr>\n",
       "      <td>...</td>\n",
       "      <td>...</td>\n",
       "      <td>...</td>\n",
       "      <td>...</td>\n",
       "      <td>...</td>\n",
       "      <td>...</td>\n",
       "      <td>...</td>\n",
       "      <td>...</td>\n",
       "      <td>...</td>\n",
       "    </tr>\n",
       "    <tr>\n",
       "      <td>11098749</td>\n",
       "      <td>18454</td>\n",
       "      <td>NaN</td>\n",
       "      <td>NaN</td>\n",
       "      <td>45</td>\n",
       "      <td>0.0</td>\n",
       "      <td>0.0</td>\n",
       "      <td>0.0</td>\n",
       "      <td>55</td>\n",
       "    </tr>\n",
       "    <tr>\n",
       "      <td>11098750</td>\n",
       "      <td>16188</td>\n",
       "      <td>NaN</td>\n",
       "      <td>NaN</td>\n",
       "      <td>45</td>\n",
       "      <td>0.0</td>\n",
       "      <td>0.0</td>\n",
       "      <td>0.0</td>\n",
       "      <td>64</td>\n",
       "    </tr>\n",
       "    <tr>\n",
       "      <td>11098751</td>\n",
       "      <td>15757</td>\n",
       "      <td>NaN</td>\n",
       "      <td>NaN</td>\n",
       "      <td>45</td>\n",
       "      <td>0.0</td>\n",
       "      <td>0.0</td>\n",
       "      <td>0.0</td>\n",
       "      <td>55</td>\n",
       "    </tr>\n",
       "    <tr>\n",
       "      <td>11098752</td>\n",
       "      <td>19648</td>\n",
       "      <td>NaN</td>\n",
       "      <td>NaN</td>\n",
       "      <td>45</td>\n",
       "      <td>0.0</td>\n",
       "      <td>0.0</td>\n",
       "      <td>0.0</td>\n",
       "      <td>40</td>\n",
       "    </tr>\n",
       "    <tr>\n",
       "      <td>11098753</td>\n",
       "      <td>969</td>\n",
       "      <td>NaN</td>\n",
       "      <td>NaN</td>\n",
       "      <td>45</td>\n",
       "      <td>0.0</td>\n",
       "      <td>0.0</td>\n",
       "      <td>0.0</td>\n",
       "      <td>37</td>\n",
       "    </tr>\n",
       "  </tbody>\n",
       "</table>\n",
       "<p>214200 rows × 8 columns</p>\n",
       "</div>"
      ],
      "text/plain": [
       "          item_id  month_id  month_id1  shop_id  item_mean_price1  \\\n",
       "10884554     5037       NaN        NaN        5               0.0   \n",
       "10884555     5320       NaN        NaN        5               0.0   \n",
       "10884556     5233       NaN        NaN        5               0.0   \n",
       "10884557     5232       NaN        NaN        5               0.0   \n",
       "10884558     5268       NaN        NaN        5               0.0   \n",
       "...           ...       ...        ...      ...               ...   \n",
       "11098749    18454       NaN        NaN       45               0.0   \n",
       "11098750    16188       NaN        NaN       45               0.0   \n",
       "11098751    15757       NaN        NaN       45               0.0   \n",
       "11098752    19648       NaN        NaN       45               0.0   \n",
       "11098753      969       NaN        NaN       45               0.0   \n",
       "\n",
       "          shop_cnt_month1  item_total_month1  item_category_id  \n",
       "10884554              0.0                0.0                19  \n",
       "10884555              0.0                0.0                55  \n",
       "10884556              0.0                0.0                19  \n",
       "10884557              0.0                0.0                23  \n",
       "10884558              0.0                0.0                20  \n",
       "...                   ...                ...               ...  \n",
       "11098749              0.0                0.0                55  \n",
       "11098750              0.0                0.0                64  \n",
       "11098751              0.0                0.0                55  \n",
       "11098752              0.0                0.0                40  \n",
       "11098753              0.0                0.0                37  \n",
       "\n",
       "[214200 rows x 8 columns]"
      ]
     },
     "execution_count": 76,
     "metadata": {},
     "output_type": "execute_result"
    }
   ],
   "source": [
    "test"
   ]
  },
  {
   "cell_type": "code",
   "execution_count": 77,
   "metadata": {},
   "outputs": [],
   "source": [
    "from sklearn.model_selection import train_test_split\n",
    "\n",
    "X_train, X_test, y_train, y_test = train_test_split(X, y, random_state=666)"
   ]
  },
  {
   "cell_type": "code",
   "execution_count": 79,
   "metadata": {},
   "outputs": [
    {
     "name": "stdout",
     "output_type": "stream",
     "text": [
      "Fitting 3 folds for each of 1 candidates, totalling 3 fits\n"
     ]
    },
    {
     "name": "stderr",
     "output_type": "stream",
     "text": [
      "[Parallel(n_jobs=1)]: Using backend SequentialBackend with 1 concurrent workers.\n"
     ]
    },
    {
     "name": "stdout",
     "output_type": "stream",
     "text": [
      "[CV] learning_rate=0.1, max_depth=4, n_estimators=50 .................\n",
      "[CV] .. learning_rate=0.1, max_depth=4, n_estimators=50, total=18.8min\n",
      "[CV] learning_rate=0.1, max_depth=4, n_estimators=50 .................\n"
     ]
    },
    {
     "name": "stderr",
     "output_type": "stream",
     "text": [
      "[Parallel(n_jobs=1)]: Done   1 out of   1 | elapsed: 18.8min remaining:    0.0s\n"
     ]
    },
    {
     "name": "stdout",
     "output_type": "stream",
     "text": [
      "[CV] .. learning_rate=0.1, max_depth=4, n_estimators=50, total=19.9min\n",
      "[CV] learning_rate=0.1, max_depth=4, n_estimators=50 .................\n",
      "[CV] .. learning_rate=0.1, max_depth=4, n_estimators=50, total=20.4min\n"
     ]
    },
    {
     "name": "stderr",
     "output_type": "stream",
     "text": [
      "[Parallel(n_jobs=1)]: Done   3 out of   3 | elapsed: 59.1min finished\n"
     ]
    },
    {
     "data": {
      "text/plain": [
       "GridSearchCV(cv=3, error_score='raise-deprecating',\n",
       "             estimator=GradientBoostingRegressor(alpha=0.9,\n",
       "                                                 criterion='friedman_mse',\n",
       "                                                 init=None, learning_rate=0.1,\n",
       "                                                 loss='ls', max_depth=3,\n",
       "                                                 max_features=None,\n",
       "                                                 max_leaf_nodes=None,\n",
       "                                                 min_impurity_decrease=0.0,\n",
       "                                                 min_impurity_split=None,\n",
       "                                                 min_samples_leaf=1,\n",
       "                                                 min_samples_split=2,\n",
       "                                                 min_weight_fraction_leaf=0.0,\n",
       "                                                 n_estimators=100,\n",
       "                                                 n_iter_no_change=None,\n",
       "                                                 presort='auto',\n",
       "                                                 random_state=None,\n",
       "                                                 subsample=1.0, tol=0.0001,\n",
       "                                                 validation_fraction=0.1,\n",
       "                                                 verbose=0, warm_start=False),\n",
       "             iid='warn', n_jobs=None,\n",
       "             param_grid=[{'learning_rate': [0.1], 'max_depth': [4],\n",
       "                          'n_estimators': [50]}],\n",
       "             pre_dispatch='2*n_jobs', refit=True, return_train_score=False,\n",
       "             scoring=None, verbose=2)"
      ]
     },
     "execution_count": 79,
     "metadata": {},
     "output_type": "execute_result"
    }
   ],
   "source": [
    "from sklearn.ensemble import GradientBoostingRegressor\n",
    "from sklearn.model_selection import GridSearchCV\n",
    "\n",
    "param_grid = [\n",
    "    {\n",
    "        'max_depth': [4],\n",
    "        'n_estimators': [50],\n",
    "        'learning_rate': [0.1]\n",
    "#         ,'subsample': [0.8]\n",
    "    }\n",
    "]\n",
    "gb_reg = GradientBoostingRegressor()\n",
    "grid_search2 = GridSearchCV(gb_reg, param_grid, verbose=2, cv=3) # cv是交叉验证分成多少分\n",
    "grid_search2.fit(X_train, y_train)"
   ]
  },
  {
   "cell_type": "code",
   "execution_count": 80,
   "metadata": {},
   "outputs": [
    {
     "data": {
      "text/plain": [
       "0.7042695977708084"
      ]
     },
     "execution_count": 80,
     "metadata": {},
     "output_type": "execute_result"
    }
   ],
   "source": [
    "grid_search2.best_score_"
   ]
  },
  {
   "cell_type": "code",
   "execution_count": 81,
   "metadata": {},
   "outputs": [
    {
     "data": {
      "text/plain": [
       "0.7456255908470076"
      ]
     },
     "execution_count": 81,
     "metadata": {},
     "output_type": "execute_result"
    }
   ],
   "source": [
    "grid_search2.score(X_test, y_test)"
   ]
  },
  {
   "cell_type": "code",
   "execution_count": 102,
   "metadata": {},
   "outputs": [],
   "source": [
    "gb_reg = grid_search2.best_estimator_\n",
    "test['month_id'] = test['month_id'].fillna(34)\n",
    "test['month_id1'] = test['month_id1'].fillna(34%12)\n",
    "test\n",
    "predict = gb_reg.predict(test)\n",
    "predict\n",
    "csv = {'Id':df_test['ID'], 'item_cnt_month':predict}\n",
    "df =pd.DataFrame(csv)\n",
    "df.to_csv('predcit5-29-1.csv',index=None)"
   ]
  },
  {
   "cell_type": "code",
   "execution_count": 100,
   "metadata": {},
   "outputs": [
    {
     "data": {
      "text/plain": [
       "33.0"
      ]
     },
     "execution_count": 100,
     "metadata": {},
     "output_type": "execute_result"
    }
   ],
   "source": [
    "train['month_id'].max()"
   ]
  },
  {
   "cell_type": "code",
   "execution_count": null,
   "metadata": {},
   "outputs": [],
   "source": []
  }
 ],
 "metadata": {
  "kernelspec": {
   "display_name": "Python 3",
   "language": "python",
   "name": "python3"
  },
  "language_info": {
   "codemirror_mode": {
    "name": "ipython",
    "version": 3
   },
   "file_extension": ".py",
   "mimetype": "text/x-python",
   "name": "python",
   "nbconvert_exporter": "python",
   "pygments_lexer": "ipython3",
   "version": "3.7.7"
  }
 },
 "nbformat": 4,
 "nbformat_minor": 2
}
