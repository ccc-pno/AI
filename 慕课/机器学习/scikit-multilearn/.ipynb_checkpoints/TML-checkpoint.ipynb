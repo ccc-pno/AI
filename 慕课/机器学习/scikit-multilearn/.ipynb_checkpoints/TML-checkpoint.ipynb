{
 "cells": [
  {
   "cell_type": "code",
   "execution_count": 39,
   "metadata": {},
   "outputs": [],
   "source": [
    "import numpy as np\n",
    "\n",
    "\n",
    "\n",
    "def _similarity(Xi,Xj,sigma=1):\n",
    "    return np.exp(-np.sum((Xi-Xj)**2)/(2*sigma**2))\n",
    "\n",
    "# def _w(graph,X,i,j,sigma=1):\n",
    "#     if i==j:\n",
    "#         return 1\n",
    "#     elif graph[i,j]==1:\n",
    "#         return _similarity(X[i,:],X[j,:],sigma)\n",
    "#     else:\n",
    "#         return 0\n",
    "\n",
    "def init_W(graph,X,sigma=1):\n",
    "    n_samples = len(X)\n",
    "    W = np.zeros((n_samples,n_samples))\n",
    "    for i in range(n_samples):\n",
    "        for j in range(n_samples):\n",
    "            if i==j:\n",
    "                W[i,j]=1\n",
    "            elif graph[i,j]==1:\n",
    "                W[i,j]=_similarity(X[i,:],X[j,:],sigma)\n",
    "            else:\n",
    "                W[i,j]=0\n",
    "    return W\n",
    "\n",
    "def init_R(W,n_samples,t):\n",
    "    D = np.zeros((n_samples,n_samples))\n",
    "    for i in range(n_samples):\n",
    "        D[i,:] = np.sum(W[i,:])\n",
    "    P = np.linalg.pinv(D).dot(W)\n",
    "    R = P**t\n",
    "    R /= np.sum(R,axis=0)\n",
    "    return R\n",
    "\n",
    "def init_Y(y):\n",
    "    \n",
    "    \n",
    "    return y\n",
    "\n",
    "def predict(R,y,n_samples,n_test):\n",
    "    \"\"\"y矩阵包含train和test,y[:l]-->train,y[l:]-->test\"\"\"\n",
    "    l = n_samples\n",
    "    n_labels = y.shape[1]\n",
    "    y = y.T\n",
    "    predict = y.copy()\n",
    "    for n in range(n_labels):\n",
    "        for j in range(l,n_test):\n",
    "            predict[n,j] = y[n,:].dot(R[:,j])\n",
    "    return predict"
   ]
  },
  {
   "cell_type": "code",
   "execution_count": 40,
   "metadata": {},
   "outputs": [
    {
     "name": "stdout",
     "output_type": "stream",
     "text": [
      "[[1.         0.         0.         0.011109   0.        ]\n",
      " [0.         1.         0.082085   0.         0.        ]\n",
      " [0.         0.082085   1.         0.082085   0.082085  ]\n",
      " [0.011109   0.         0.082085   1.         0.36787944]\n",
      " [0.         0.         0.082085   0.36787944 1.        ]]\n",
      "\n",
      "[[0.02573648 0.02967067 0.03943193 0.05280912 0.05235181]\n",
      " [0.02573648 0.02967067 0.03943193 0.05280912 0.05235181]\n",
      " [0.02573648 0.02967067 0.03943193 0.05280912 0.05235181]\n",
      " [0.02573648 0.02967067 0.03943193 0.05280912 0.05235181]\n",
      " [0.02573648 0.02967067 0.03943193 0.05280912 0.05235181]]\n",
      "[[0.2 0.2 0.2 0.2 0.2]\n",
      " [0.2 0.2 0.2 0.2 0.2]\n",
      " [0.2 0.2 0.2 0.2 0.2]\n",
      " [0.2 0.2 0.2 0.2 0.2]\n",
      " [0.2 0.2 0.2 0.2 0.2]]\n",
      "\n",
      "[[0 0 0 0 0]\n",
      " [0 0 0 0 0]]\n",
      "\n"
     ]
    }
   ],
   "source": [
    "X = np.array([[1,1],[1,2],[3,3],[4,1],[5,2]])\n",
    "y = np.array([[1,0],[0,1],[0,0],[0,0],[0,0]])\n",
    "graph = np.array([[1,0,0,1,0],\n",
    "                  [0,1,1,0,0],\n",
    "                  [0,1,1,1,1],\n",
    "                  [1,0,1,1,1],\n",
    "                  [0,0,1,1,1]])\n",
    "\n",
    "n_samples = len(y)\n",
    "W = init_W(graph,X,1)\n",
    "print(W)\n",
    "print()\n",
    "R = init_R(W,len(X),2)\n",
    "print(R)\n",
    "print()\n",
    "res = predict(R,y,2,3)\n",
    "print(res)\n",
    "print()"
   ]
  },
  {
   "cell_type": "code",
   "execution_count": null,
   "metadata": {},
   "outputs": [],
   "source": []
  }
 ],
 "metadata": {
  "kernelspec": {
   "display_name": "Python 3",
   "language": "python",
   "name": "python3"
  },
  "language_info": {
   "codemirror_mode": {
    "name": "ipython",
    "version": 3
   },
   "file_extension": ".py",
   "mimetype": "text/x-python",
   "name": "python",
   "nbconvert_exporter": "python",
   "pygments_lexer": "ipython3",
   "version": "3.7.7"
  }
 },
 "nbformat": 4,
 "nbformat_minor": 4
}
