{
 "cells": [
  {
   "cell_type": "code",
   "execution_count": 18,
   "metadata": {
    "scrolled": true
   },
   "outputs": [
    {
     "name": "stdout",
     "output_type": "stream",
     "text": [
      "Congratulations,cluster complete!\n"
     ]
    },
    {
     "data": {
      "image/png": "[encoded data removed]",
      "text/plain": [
       "<Figure size 432x288 with 1 Axes>"
      ]
     },
     "metadata": {
      "needs_background": "light"
     },
     "output_type": "display_data"
    }
   ],
   "source": [
    "import numpy as np\n",
    "import matplotlib.pyplot as plt\n",
    "\n",
    "\n",
    "# 距离\n",
    "def distEclud(X,y):\n",
    "    return np.sqrt(np.sum(X-y)**2)\n",
    "\n",
    "# 为给定数据集构建一个包含K个随机质心的集合\n",
    "def randCent(dataSet,k):\n",
    "    m,n = dataSet.shape\n",
    "    centroids = np.zeros((k,n))\n",
    "    for i in range(k):\n",
    "        index = int(np.random.uniform(0,m))\n",
    "        centroids[i,:] = dataSet[index,:]\n",
    "    return centroids\n",
    "\n",
    "\n",
    "# Kmeans\n",
    "def KMeans(dataSet,k):\n",
    "    m = dataSet.shape[0]\n",
    "    clusterAssment = np.mat(np.zeros((m,2)))\n",
    "    clusterChange = True\n",
    "    \n",
    "    # 第一步 初始化centroids\n",
    "    centroids = randCent(dataSet,k)\n",
    "    while clusterChange:\n",
    "        clusterChange = False\n",
    "        \n",
    "        # 遍历样本\n",
    "        for i in range(m):\n",
    "            minDist  = np.inf\n",
    "            minIndex = -1\n",
    "            \n",
    "            # 遍历所有质心\n",
    "            for j in range(k):\n",
    "                distance = distEclud(dataSet[i,:],dataSet[j,:])\n",
    "                if distance < minDist:\n",
    "                    minDist = distance\n",
    "                    minIndex = j\n",
    "                \n",
    "            if clusterAssment[i,0] != minIndex:\n",
    "                clusterChange = True\n",
    "                clusterAssment[i,:] = minIndex,minDist**2\n",
    "            \n",
    "            # 更新质心\n",
    "            for j in range(k):\n",
    "                poinsInCluster = dataSet[np.nonzero(clusterAssment[:,0].A == j)[0]] #获取簇中所有点\n",
    "                centroids[j,:] = np.mean(poinsInCluster,axis=0) #对矩阵的行求均值\n",
    "            \n",
    "    print(\"Congratulations,cluster complete!\")\n",
    "    return centroids,clusterAssment\n",
    "\n",
    "def showCluster(dataSet,k,centroids,clusterAssment):\n",
    "    m,n = dataSet.shape\n",
    "    if n != 2:\n",
    "        print(\"数据不是二维的\")\n",
    "        return 1\n",
    " \n",
    "    mark = ['or', 'ob', 'og', 'ok', '^r', '+r', 'sr', 'dr', '<r', 'pr']\n",
    "    if k > len(mark):\n",
    "        print(\"k值太大了\")\n",
    "        return 1\n",
    " \n",
    "    # 绘制所有的样本\n",
    "    for i in range(m):\n",
    "        markIndex = int(clusterAssment[i,0])\n",
    "        plt.plot(dataSet[i,0],dataSet[i,1],mark[markIndex])\n",
    " \n",
    "    mark = ['Dr', 'Db', 'Dg', 'Dk', '^b', '+b', 'sb', 'db', '<b', 'pb']\n",
    "    # 绘制质心\n",
    "    for i in range(k):\n",
    "        plt.plot(centroids[i,0],centroids[i,1],mark[i])\n",
    " \n",
    "    plt.show()\n",
    "    \n",
    "\n",
    "dataSet = np.array([[-5,-3],[-4,-2],[-4,0],[-4,1],[-4,3],[0,-3],[0,3],[1,3],[2,4]])\n",
    "k = 3\n",
    "centroids,clusterAssment = KMeans(dataSet,k)\n",
    " \n",
    "showCluster(dataSet,k,centroids,clusterAssment)"
   ]
  },
  {
   "cell_type": "code",
   "execution_count": 120,
   "metadata": {},
   "outputs": [
    {
     "data": {
      "text/plain": [
       "array([0, 0, 1, 1])"
      ]
     },
     "execution_count": 120,
     "metadata": {},
     "output_type": "execute_result"
    }
   ],
   "source": [
    "from sklearn.cluster import KMeans\n",
    "\n",
    "X = np.array([[1,0,0,1,1,0,1],[1,1,1,0,0,0,1],[1,1,1,1,1,1,1],[1,1,1,1,1,1,0]])\n",
    "X2 = np.array([[1,0,0,1,1,1,0],[1,1,1,0,0,0,1],[1,1,1,1,1,1,1]])\n",
    "\n",
    "y = np.array([[1,0,1],[1,1,0],[0,1,1]])\n",
    "\n",
    "tmp = KMeans(n_clusters=2)\n",
    "tmp.fit_predict(X)"
   ]
  }
 ],
 "metadata": {
  "kernelspec": {
   "display_name": "Python 3",
   "language": "python",
   "name": "python3"
  },
  "language_info": {
   "codemirror_mode": {
    "name": "ipython",
    "version": 3
   },
   "file_extension": ".py",
   "mimetype": "text/x-python",
   "name": "python",
   "nbconvert_exporter": "python",
   "pygments_lexer": "ipython3",
   "version": "3.7.7"
  }
 },
 "nbformat": 4,
 "nbformat_minor": 4
}
