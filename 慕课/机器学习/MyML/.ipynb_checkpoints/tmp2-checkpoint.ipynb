{
 "cells": [
  {
   "cell_type": "code",
   "execution_count": 1,
   "metadata": {},
   "outputs": [
    {
     "name": "stdout",
     "output_type": "stream",
     "text": [
      "['/Users/apple/Desktop/慕课/机器学习/myML', '/Users/apple/opt/anaconda3/lib/python37.zip', '/Users/apple/opt/anaconda3/lib/python3.7', '/Users/apple/opt/anaconda3/lib/python3.7/lib-dynload', '', '/Users/apple/opt/anaconda3/lib/python3.7/site-packages', '/Users/apple/opt/anaconda3/lib/python3.7/site-packages/aeosa', '/Users/apple/opt/anaconda3/lib/python3.7/site-packages/IPython/extensions', '/Users/apple/.ipython']\n"
     ]
    }
   ],
   "source": [
    "import sys\n",
    "# sys.path.append() \n",
    "print(sys.path)"
   ]
  },
  {
   "cell_type": "code",
   "execution_count": 2,
   "metadata": {},
   "outputs": [],
   "source": [
    "from linear_model import LinearRegression\n",
    "import numpy as np\n",
    "import matplotlib.pyplot as plt\n",
    "import seaborn as sns"
   ]
  },
  {
   "cell_type": "code",
   "execution_count": 2,
   "metadata": {},
   "outputs": [],
   "source": [
    "lin = LinearRegression()"
   ]
  },
  {
   "cell_type": "code",
   "execution_count": 396,
   "metadata": {},
   "outputs": [
    {
     "data": {
      "text/plain": [
       "<matplotlib.collections.PathCollection at 0x7f8d15260410>"
      ]
     },
     "execution_count": 396,
     "metadata": {},
     "output_type": "execute_result"
    },
    {
     "data": {
      "image/png": "[encoded data removed]",
      "text/plain": [
       "<Figure size 432x288 with 1 Axes>"
      ]
     },
     "metadata": {
      "needs_background": "light"
     },
     "output_type": "display_data"
    }
   ],
   "source": [
    "X = np.empty((20,2))\n",
    "y = np.empty((20,1))\n",
    "X[:,0] = np.linspace(-100,100,20)\n",
    "X[:,1] = np.linspace(-10,10,20)\n",
    "plt.scatter(X[:,0],X[:,1])\n",
    "# y = X[:,0]*0 + X[:,1]*4 + np.random.uniform(-2,2,20)\n",
    "# y = y.reshape(-1,1)\n",
    "# y"
   ]
  },
  {
   "cell_type": "code",
   "execution_count": 415,
   "metadata": {},
   "outputs": [
    {
     "data": {
      "text/plain": [
       "<matplotlib.collections.PathCollection at 0x7f8d15a2ded0>"
      ]
     },
     "execution_count": 415,
     "metadata": {},
     "output_type": "execute_result"
    },
    {
     "data": {
      "image/png": "[encoded data removed]",
      "text/plain": [
       "<Figure size 432x288 with 1 Axes>"
      ]
     },
     "metadata": {
      "needs_background": "light"
     },
     "output_type": "display_data"
    }
   ],
   "source": [
    "X = np.empty((20,2))\n",
    "y = np.empty((20,1))\n",
    "X[:10,0] = np.random.uniform(-10,0,size=10)\n",
    "X[10:,0] = np.random.uniform(0,10,10)\n",
    "X[:10,1] = np.random.uniform(-1000,0,10)\n",
    "X[10:,1] = np.random.uniform(0,1000,10)\n",
    "y[:10] = 0\n",
    "y[10:] = 1\n",
    "\n",
    "plt.scatter(X[y[:,0]==0,0],X[y[:,0]==0,1],color='red')\n",
    "plt.scatter(X[y[:,0]==1,0],X[y[:,0]==1,1],color='blue')"
   ]
  },
  {
   "cell_type": "code",
   "execution_count": 488,
   "metadata": {},
   "outputs": [],
   "source": [
    "class LogisticRegression():\n",
    "    def __init__(self):\n",
    "        self.coef_=None\n",
    "        self.intercept_=None\n",
    "        self._theta=None\n",
    "        self.multi_class=None\n",
    "        self.C=1.\n",
    "        self.penalty='l2'\n",
    "        self.max_iter=1e4\n",
    "    \n",
    "    def __repr__(self):\n",
    "        print(\"LogisticRegression()\")\n",
    "    \n",
    "    def fit(self,X_train,y_train,learning_rate=0.01):\n",
    "        \"\"\"根据训练集X_train,y_train训练逻辑回归模型\"\"\"\n",
    "        assert X_train.shape[0]==y_train.shape[0], \\\n",
    "            \"the size of X_train must be equal to the size of y_train\"\n",
    "            \n",
    "        def sigmoid(t):\n",
    "            return 1/(1+np.exp(-t))\n",
    "        \n",
    "        def J(theta,X):\n",
    "            return np.sum(y*sigmoid(X.dot(theta))+(1-y)*sigmoid(1-X.dot(theta)))/(-len(X))\n",
    "        \n",
    "        def dJ(theta,X):\n",
    "            return X.T.dot(sigmoid(X.dot(theta))-y)/len(X)\n",
    "        \n",
    "        def dJ_debug(w,X,epsilon=1e-4):\n",
    "            res=np.zeros_like(w)\n",
    "            for i in range(len(w)):\n",
    "                w_1=w.copy()\n",
    "                w_1[i]+=epsilon\n",
    "                w_2=w.copy()\n",
    "                w_2[i]-=epsilon\n",
    "                res[i]=( J(w_1,X) - J(w_2,X) ) / ( 2 * epsilon )\n",
    "            return res\n",
    "        \n",
    "        def gredient(dJ_func,w,X):\n",
    "            i_iter=0\n",
    "            while(i_iter < self.max_iter):\n",
    "                last_J=J(w,X)\n",
    "                w=w-learning_rate*dJ_func(w,X)\n",
    "                if(J(w,X)-last_J<1e-4):\n",
    "                    break\n",
    "                i_iter+=1\n",
    "            return w\n",
    "        \n",
    "        X_b=np.hstack((np.ones(X_train.shape[0]).reshape(-1,1),X_train))\n",
    "        theta=np.zeros((X_b.shape[1],1))\n",
    "        gredient=gredient(dJ,theta,X_b)\n",
    "        self._theta=gredient\n",
    "        self.coef_=self._theta[1:]\n",
    "        self.intercept_=self._theta[0]\n",
    "            \n",
    "        return self\n",
    "    \n",
    "    def predict(self,X_test):\n",
    "        \"\"\"根据测试集X_test预测y_predict\"\"\"\n",
    "        assert self._theta is not None,\\\n",
    "            \"you must fit before predict\"\n",
    "        def sigmoid(t):\n",
    "            return 1/(1+np.exp(-t))\n",
    "        X_b=np.hstack((np.ones(X_test.shape[0]).reshape(-1,1),X_test))\n",
    "        y_predict=np.array(sigmoid(X_b.dot(self._theta))>0.5,dtype=int)\n",
    "        return y_predict\n",
    "    \n",
    "    def score(self,X_test,y_test):\n",
    "        \"\"\"根据测试集X_test,y_test计算准确度\"\"\"\n",
    "        assert X_test.shape[0]==y_test.shape[0], \\\n",
    "            \"the size of X_test must be equal to the size of y_test\"\n",
    "        def sigmoid(t):\n",
    "            return 1/(1+np.exp(-t))\n",
    "        X_b=np.hstack((np.ones(X_test.shape[0]).reshape(-1,1),X_test))\n",
    "        y_predict=np.array(sigmoid(X_b.dot(self._theta))>0.5,dtype=int)\n",
    "        return np.sum(y_predict==y_test)/len(y_test)"
   ]
  },
  {
   "cell_type": "code",
   "execution_count": 491,
   "metadata": {},
   "outputs": [
    {
     "name": "stdout",
     "output_type": "stream",
     "text": [
      "1.0\n"
     ]
    },
    {
     "name": "stderr",
     "output_type": "stream",
     "text": [
      "/Users/apple/opt/anaconda3/lib/python3.7/site-packages/ipykernel_launcher.py:20: RuntimeWarning: overflow encountered in exp\n",
      "/Users/apple/opt/anaconda3/lib/python3.7/site-packages/ipykernel_launcher.py:71: RuntimeWarning: overflow encountered in exp\n"
     ]
    }
   ],
   "source": [
    "lin = LogisticRegression2()\n",
    "lin.fit(X,y)\n",
    "print(lin.score(X,y))"
   ]
  },
  {
   "cell_type": "code",
   "execution_count": 487,
   "metadata": {},
   "outputs": [
    {
     "name": "stderr",
     "output_type": "stream",
     "text": [
      "/Users/apple/opt/anaconda3/lib/python3.7/site-packages/sklearn/linear_model/logistic.py:432: FutureWarning: Default solver will be changed to 'lbfgs' in 0.22. Specify a solver to silence this warning.\n",
      "  FutureWarning)\n",
      "/Users/apple/opt/anaconda3/lib/python3.7/site-packages/sklearn/utils/validation.py:724: DataConversionWarning: A column-vector y was passed when a 1d array was expected. Please change the shape of y to (n_samples, ), for example using ravel().\n",
      "  y = column_or_1d(y, warn=True)\n"
     ]
    },
    {
     "ename": "AttributeError",
     "evalue": "'LogisticRegression' object has no attribute '_theta'",
     "output_type": "error",
     "traceback": [
      "\u001b[0;31m---------------------------------------------------------------------------\u001b[0m",
      "\u001b[0;31mAttributeError\u001b[0m                            Traceback (most recent call last)",
      "\u001b[0;32m<ipython-input-487-2296de3127ed>\u001b[0m in \u001b[0;36m<module>\u001b[0;34m\u001b[0m\n\u001b[1;32m      3\u001b[0m \u001b[0mlin2\u001b[0m \u001b[0;34m=\u001b[0m \u001b[0mLogisticRegression\u001b[0m\u001b[0;34m(\u001b[0m\u001b[0;34m)\u001b[0m\u001b[0;34m\u001b[0m\u001b[0;34m\u001b[0m\u001b[0m\n\u001b[1;32m      4\u001b[0m \u001b[0mlin2\u001b[0m\u001b[0;34m.\u001b[0m\u001b[0mfit\u001b[0m\u001b[0;34m(\u001b[0m\u001b[0mX\u001b[0m\u001b[0;34m,\u001b[0m\u001b[0my\u001b[0m\u001b[0;34m)\u001b[0m\u001b[0;34m\u001b[0m\u001b[0;34m\u001b[0m\u001b[0m\n\u001b[0;32m----> 5\u001b[0;31m \u001b[0mprint\u001b[0m\u001b[0;34m(\u001b[0m\u001b[0mlin2\u001b[0m\u001b[0;34m.\u001b[0m\u001b[0m_theta\u001b[0m\u001b[0;34m)\u001b[0m\u001b[0;34m\u001b[0m\u001b[0;34m\u001b[0m\u001b[0m\n\u001b[0m",
      "\u001b[0;31mAttributeError\u001b[0m: 'LogisticRegression' object has no attribute '_theta'"
     ]
    }
   ],
   "source": [
    "from sklearn.linear_model import LogisticRegression\n",
    "\n",
    "lin2 = LogisticRegression()\n",
    "lin2.fit(X,y)\n",
    "print(lin2._theta)"
   ]
  },
  {
   "cell_type": "code",
   "execution_count": null,
   "metadata": {},
   "outputs": [],
   "source": [
    "array([[0.99380799, 0.0993808 , 0.0496904 ],\n",
    "       [0.99380799, 0.0993808 , 0.0496904 ]])"
   ]
  },
  {
   "cell_type": "code",
   "execution_count": 63,
   "metadata": {
    "scrolled": true
   },
   "outputs": [
    {
     "name": "stdout",
     "output_type": "stream",
     "text": [
      "[[-103.96992251]\n",
      " [ -92.92045953]\n",
      " [ -81.87099656]\n",
      " [ -70.82153359]\n",
      " [ -59.77207062]\n",
      " [ -48.72260765]\n",
      " [ -37.67314468]\n",
      " [ -26.6236817 ]\n",
      " [ -15.57421873]\n",
      " [  -4.52475576]\n",
      " [   6.52470721]\n",
      " [  17.57417018]\n",
      " [  28.62363316]\n",
      " [  39.67309613]\n",
      " [  50.7225591 ]\n",
      " [  61.77202207]\n",
      " [  72.82148504]\n",
      " [  83.87094801]\n",
      " [  94.92041099]\n",
      " [ 105.96987396]]\n"
     ]
    }
   ],
   "source": [
    "lin = Lasso(1)\n",
    "lin.fit(X,y,learning_rate=0.000000001)\n",
    "y_predict = lin.predict(X)\n",
    "print(y_predict)"
   ]
  },
  {
   "cell_type": "code",
   "execution_count": 104,
   "metadata": {},
   "outputs": [
    {
     "name": "stdout",
     "output_type": "stream",
     "text": [
      "[[ 3.48336184e-01  2.02464316e-01]\n",
      " [ 1.75303158e-01 -1.50910008e-01]\n",
      " [ 5.60407549e-01 -2.97599016e-04]\n",
      " [ 2.27091012e-01  4.21618413e-01]\n",
      " [ 1.21363952e+00  6.21343043e-01]\n",
      " [ 7.52935502e-01  9.24104316e-01]\n",
      " [ 7.44733944e-01  1.01448374e+00]\n",
      " [ 8.80028569e-01  8.21302758e-01]\n",
      " [ 1.30342437e+00  5.27320254e-01]]\n"
     ]
    }
   ],
   "source": [
    "from sklearn.preprocessing import MinMaxScaler\n",
    "lin2 = MinMaxScaler()\n",
    "# print(lin2.t)\n",
    "lin2.fit(X[np.arange(1,20,2)])\n",
    "X_transform2 = lin2.transform(X[np.arange(2,20,2)])\n",
    "print(X_transform2)\n",
    "\n"
   ]
  },
  {
   "cell_type": "code",
   "execution_count": 105,
   "metadata": {},
   "outputs": [
    {
     "data": {
      "text/plain": [
       "8"
      ]
     },
     "execution_count": 105,
     "metadata": {},
     "output_type": "execute_result"
    }
   ],
   "source": [
    "np.sum(X_transform == X_transform2)"
   ]
  },
  {
   "cell_type": "code",
   "execution_count": 429,
   "metadata": {},
   "outputs": [
    {
     "data": {
      "text/plain": [
       "<matplotlib.collections.PathCollection at 0x7fb4c9374110>"
      ]
     },
     "execution_count": 429,
     "metadata": {},
     "output_type": "execute_result"
    },
    {
     "data": {
      "image/png": "[encoded data removed]",
      "text/plain": [
       "<Figure size 432x288 with 1 Axes>"
      ]
     },
     "metadata": {
      "needs_background": "light"
     },
     "output_type": "display_data"
    }
   ],
   "source": [
    "plt.scatter(X[y[:,0]==0,0],X[y[:,0]==0,1],color='red')\n",
    "plt.scatter(X[y[:,0]==1,0],X[y[:,0]==1,1],color='blue')\n",
    "plt.scatter(x[0,0],x[0,1],color='green')\n",
    "plt.scatter(x[1,0],x[1,1],color='green')"
   ]
  },
  {
   "cell_type": "code",
   "execution_count": null,
   "metadata": {},
   "outputs": [],
   "source": []
  }
 ],
 "metadata": {
  "kernelspec": {
   "display_name": "Python 3",
   "language": "python",
   "name": "python3"
  },
  "language_info": {
   "codemirror_mode": {
    "name": "ipython",
    "version": 3
   },
   "file_extension": ".py",
   "mimetype": "text/x-python",
   "name": "python",
   "nbconvert_exporter": "python",
   "pygments_lexer": "ipython3",
   "version": "3.7.7"
  }
 },
 "nbformat": 4,
 "nbformat_minor": 2
}
