{
 "cells": [
  {
   "cell_type": "code",
   "execution_count": 16,
   "metadata": {},
   "outputs": [],
   "source": [
    "import numpy as np\n",
    "import copy\n",
    "\n",
    "class BinaryRelevance():\n",
    "    def __init__(self, classfier=None):\n",
    "        self.classfier = classfier\n",
    "        self.classfiers = []\n",
    "    \n",
    "    def __repr__(self):\n",
    "        print(\"BinaryRelevance()\")\n",
    "        \n",
    "    def fit(self,X,y):\n",
    "        self.label_num = y.shape[1]\n",
    "        for i in range(self.lable_num):\n",
    "            classfier = copy.deepcopy(self.classfier)\n",
    "            classfier.fit(X,y[i,:])\n",
    "            self.classfiers.append(classfier)\n",
    "        return self\n",
    "    \n",
    "    def predict(self,X):\n",
    "        res = np.zeros((X.shape[0],self.label_num))\n",
    "        for i in range(self.label_num):\n",
    "            res[i,:] = self.classfiers[i].predict(X[i,:].reshape(-1,1))\n",
    "        return res"
   ]
  },
  {
   "cell_type": "code",
   "execution_count": 23,
   "metadata": {},
   "outputs": [],
   "source": [
    "import numpy as np\n",
    "import copy\n",
    "\n",
    "class ClassifierChain():\n",
    "    def __init__(self,classfier):\n",
    "        self.classfier = classfier\n",
    "        self.classfiers = []\n",
    "        \n",
    "    def fit(self,X,y):\n",
    "        self.lable_num = y.shape[1]\n",
    "        X_extended = X\n",
    "        for i in range(self.lable_num):\n",
    "            classfier = copy.deepcopy(self.classfier)\n",
    "            classfier.fit(X)\n",
    "            X_extended = np.hstack((X_extended,y[i,:]))\n",
    "            self.classfiers.append(classfier)\n",
    "        return self\n",
    "    \n",
    "    def predict(self,X):\n",
    "        X_extended = X\n",
    "        res = np.zeros((X.shape[0],self.label_num))\n",
    "        for i in range(self.lable_num):\n",
    "            res[i,:] = self.classfiers[i].predict(X_extended[i,:].reshape(-1,1))\n",
    "            X_extended = np.hstack((X_extended,res[i,:]))\n",
    "        return res                                                        "
   ]
  },
  {
   "cell_type": "code",
   "execution_count": 31,
   "metadata": {},
   "outputs": [
    {
     "ename": "SyntaxError",
     "evalue": "unexpected EOF while parsing (<ipython-input-31-b66d59deb0e9>, line 32)",
     "output_type": "error",
     "traceback": [
      "\u001b[1;36m  File \u001b[1;32m\"<ipython-input-31-b66d59deb0e9>\"\u001b[1;36m, line \u001b[1;32m32\u001b[0m\n\u001b[1;33m    \u001b[0m\n\u001b[1;37m    ^\u001b[0m\n\u001b[1;31mSyntaxError\u001b[0m\u001b[1;31m:\u001b[0m unexpected EOF while parsing\n"
     ]
    }
   ],
   "source": [
    "int(\"0101010\")\n",
    "\n",
    "\n",
    "\n",
    "\n",
    "from sklearn.preprocessing import LabelEncoder\n",
    "\n",
    "le = LabelEncoder()\n",
    "a = np.array([[0,0,1],[0,1,0],[0,1,1]])\n",
    "a\n",
    "le.fit(a)\n",
    "\n",
    "\n",
    "\n",
    "class LabelPowerset():\n",
    "    def __init__(self,classifier):\n",
    "        self.classifier = classifier\n",
    "        self._clean()\n",
    "        \n",
    "    def _clean(self):\n",
    "        self.unique_combinations_ = {}\n",
    "        self.reverse_combinations_ = []\n",
    "        self._label_count = None\n",
    "    \n",
    "    def transform(self,y):\n",
    "        self._clean()\n",
    "        self._label_count = y.shape[1]\n",
    "        last_id = 0\n",
    "        train_vector = np.zeros_like(y[0,:])\n",
    "        \n",
    "        for i in range(len(y)):\n",
    "            label_string = map(str, y[i,:])\n",
    "            if label_string not in self.unique_combinations_:\n",
    "                self.unique_combinations_[label_string] = y[i,:]\n",
    "                self.reverse_combinations_.append(label_string)\n",
    "            train_vector[i,0] = self.unique_combinations_[label_string]\n",
    "    \n",
    "    def inverse_transform(self,labels):\n",
    "        reverse = np.zeros_like(labels)\n",
    "        for i in labels:\n",
    "            reverse[i] = self.unique_combinations_[i]\n",
    "        return reverse\n",
    "            \n",
    "    def fit(self,X,y):\n",
    "        y_transform = self.transform(y)\n",
    "        self.classifier.fit(X,y_transform)\n",
    "        return self\n",
    "    \n",
    "    def predict(self,X):\n",
    "        res = self.classifier.predict(X)\n",
    "        return self.inv"
   ]
  },
  {
   "cell_type": "code",
   "execution_count": 6,
   "metadata": {},
   "outputs": [
    {
     "data": {
      "text/plain": [
       "'[1 2 3]'"
      ]
     },
     "execution_count": 6,
     "metadata": {},
     "output_type": "execute_result"
    }
   ],
   "source": [
    "import numpy as np\n",
    "a = np.array([1,2,3])\n",
    "b = str(a)\n",
    "b\n"
   ]
  },
  {
   "cell_type": "code",
   "execution_count": 15,
   "metadata": {},
   "outputs": [
    {
     "name": "stdout",
     "output_type": "stream",
     "text": [
      "1\n",
      "2\n",
      "3\n"
     ]
    },
    {
     "data": {
      "text/plain": [
       "'1,2,3'"
      ]
     },
     "execution_count": 15,
     "metadata": {},
     "output_type": "execute_result"
    }
   ],
   "source": [
    "for i in map(str, a):\n",
    "    print(i)\n",
    "\",\".join(map(str, a))"
   ]
  },
  {
   "cell_type": "code",
   "execution_count": 12,
   "metadata": {},
   "outputs": [
    {
     "name": "stdout",
     "output_type": "stream",
     "text": [
      "1\n",
      "2\n",
      "3\n"
     ]
    }
   ],
   "source": [
    "reverse = []\n",
    "for i in b:\n",
    "    if i != '[' and i != ']' and i != ' ':\n",
    "        print(int(i))"
   ]
  },
  {
   "cell_type": "code",
   "execution_count": null,
   "metadata": {},
   "outputs": [],
   "source": []
  }
 ],
 "metadata": {
  "kernelspec": {
   "display_name": "Python 3",
   "language": "python",
   "name": "python3"
  },
  "language_info": {
   "codemirror_mode": {
    "name": "ipython",
    "version": 3
   },
   "file_extension": ".py",
   "mimetype": "text/x-python",
   "name": "python",
   "nbconvert_exporter": "python",
   "pygments_lexer": "ipython3",
   "version": "3.7.7"
  }
 },
 "nbformat": 4,
 "nbformat_minor": 4
}
