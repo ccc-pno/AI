{
 "cells": [
  {
   "cell_type": "code",
   "execution_count": 3,
   "metadata": {},
   "outputs": [],
   "source": [
    "import numpy as np\n",
    "import matplotlib\n",
    "import sklearn\n",
    "import pandas\n",
    "import array"
   ]
  },
  {
   "cell_type": "markdown",
   "metadata": {},
   "source": [
    "### 一、array的基本操作:reshape, ndim，[]访问\n",
    "### 二、杂项（创建数组、合并与分割）\n",
    "### 三、array的矩阵运算\n",
    "### 四、numpy.array的聚合运算(一组值得出一个值)\n",
    "### 五、numpy.array的索引和排序\n",
    "### 六、numpy.array   Fancy Indexing 以及比较"
   ]
  },
  {
   "cell_type": "markdown",
   "metadata": {},
   "source": [
    "## 一、array的基本操作:reshape, ndim，[]访问"
   ]
  },
  {
   "cell_type": "code",
   "execution_count": 12,
   "metadata": {},
   "outputs": [
    {
     "data": {
      "text/plain": [
       "array([ 0,  1,  2,  3,  4,  5,  6,  7,  8,  9, 10, 11, 12, 13, 14])"
      ]
     },
     "execution_count": 12,
     "metadata": {},
     "output_type": "execute_result"
    }
   ],
   "source": [
    "x = np.arange(15)\n",
    "x"
   ]
  },
  {
   "cell_type": "code",
   "execution_count": 13,
   "metadata": {},
   "outputs": [
    {
     "data": {
      "text/plain": [
       "array([[ 0,  1,  2,  3,  4],\n",
       "       [ 5,  6,  7,  8,  9],\n",
       "       [10, 11, 12, 13, 14]])"
      ]
     },
     "execution_count": 13,
     "metadata": {},
     "output_type": "execute_result"
    }
   ],
   "source": [
    "X = np.arange(15).reshape(3,5) #reshape成3，4；3，6都不可以，必须恰好\n",
    "                               #x.reshape()不改变x自身，需要用X存储reshape的返回\n",
    "X"
   ]
  },
  {
   "cell_type": "code",
   "execution_count": 15,
   "metadata": {},
   "outputs": [
    {
     "data": {
      "text/plain": [
       "array([[ 0,  1,  2,  3,  4,  5,  6,  7,  8,  9, 10, 11, 12, 13, 14]])"
      ]
     },
     "execution_count": 15,
     "metadata": {},
     "output_type": "execute_result"
    }
   ],
   "source": [
    "x.reshape(15,-1) #10行，每行几个元素自动算\n",
    "x.reshape(-1,15) #10列，每列多少元素自动算"
   ]
  },
  {
   "cell_type": "code",
   "execution_count": 18,
   "metadata": {},
   "outputs": [
    {
     "ename": "ValueError",
     "evalue": "cannot reshape array of size 15 into shape (7,newaxis)",
     "output_type": "error",
     "traceback": [
      "\u001b[1;31m---------------------------------------------------------------------------\u001b[0m",
      "\u001b[1;31mValueError\u001b[0m                                Traceback (most recent call last)",
      "\u001b[1;32m<ipython-input-18-09482adcd1dd>\u001b[0m in \u001b[0;36m<module>\u001b[1;34m\u001b[0m\n\u001b[1;32m----> 1\u001b[1;33m \u001b[0mx\u001b[0m\u001b[1;33m.\u001b[0m\u001b[0mreshape\u001b[0m\u001b[1;33m(\u001b[0m\u001b[1;36m7\u001b[0m\u001b[1;33m,\u001b[0m\u001b[1;33m-\u001b[0m\u001b[1;36m1\u001b[0m\u001b[1;33m)\u001b[0m \u001b[1;31m#会报错，必须保证可以恰好分完*****\u001b[0m\u001b[1;33m\u001b[0m\u001b[1;33m\u001b[0m\u001b[0m\n\u001b[0m",
      "\u001b[1;31mValueError\u001b[0m: cannot reshape array of size 15 into shape (7,newaxis)"
     ]
    }
   ],
   "source": [
    "x.reshape(7,-1) #会报错，必须保证可以恰好分完*****"
   ]
  },
  {
   "cell_type": "code",
   "execution_count": 19,
   "metadata": {},
   "outputs": [
    {
     "name": "stdout",
     "output_type": "stream",
     "text": [
      "1\n",
      "2\n",
      "(15,)\n",
      "(3, 5)\n",
      "15\n",
      "15\n"
     ]
    }
   ],
   "source": [
    "print(x.ndim) #out:1,1维数组\n",
    "print(X.ndim) #out:2,2维数组\n",
    "print(x.shape)#out:(15,)\n",
    "print(X.shape)#out:(3,5)\n",
    "print(x.size) #out:10\n",
    "print(X.size) #out:15"
   ]
  },
  {
   "cell_type": "code",
   "execution_count": null,
   "metadata": {},
   "outputs": [],
   "source": [
    "#array操作的访问\n",
    "print(x[0])   #out:0\n",
    "print(x[-1])  #倒数第一个：14\n",
    "print(X[0][0])\n",
    "print(X[2,2]) #主要方式******\n",
    "print(x[0:5]) #x[ 0<=i<5 ]\n",
    "print(x[:5])  #第一个参数默认0\n",
    "print(x[0:])  #第二个参数默认结尾\n",
    "print(x[::2]) #从头到尾，步长为2\n",
    "print(x[::-1])#从尾到头，步长为-1\n",
    "\n",
    "print(X[:2,:3])#0-1行，0-2列的二维数组*****\n",
    "print(X[:2][:3])#取0-1行后，再取0-2行\n",
    "print(X[:2,::2])#0-1行，按步长为2取列\n",
    "print(X[::-1,::-1])#行列反转（不是转置）\n",
    "print(X[0])  #第一行\n",
    "print(X[0,:])#第一行（列从头到尾）\n",
    "print(X[:,0])#第一列\n",
    "\n",
    "#子数组 需要用copy()\n",
    "subX = X[:2,:3]#修改subx与修改X中的元素都会互相改变********\n",
    "subX = X[:2,:3].copy() #copy()使得subX与X脱离关系\n"
   ]
  },
  {
   "cell_type": "markdown",
   "metadata": {},
   "source": [
    "## 二、杂项（创建数组、合并与分割）"
   ]
  },
  {
   "cell_type": "code",
   "execution_count": null,
   "metadata": {},
   "outputs": [],
   "source": [
    "#1、创建数组\n",
    "np.zeros(10, dtype=int) #默认float\n",
    "np.zeros(shape = (3, 5), dtype = int)\n",
    "np.ones((3,5)) #全1,默认float\n",
    "np.full(shape=(3,5),fill_value=666) #全666，full默认int\n",
    "\n",
    "#arange生成数组\n",
    "[i for i in range(0, 20, 2)] #起始点0，终止点20，步长2，步长只能int\n",
    "np.arange(0, 20, 2)#同range，生成array形式，步长可float，默认1\n",
    "\n",
    "#linspace生成数组\n",
    "np.linspace(0,20,10) #起始点0，终止点20，分成10个点\n",
    "\n",
    "#random生成随机数组\n",
    "np.random.random() #随机生成一个浮点数\n",
    "np.random.random(10) #生成10个浮点数，array形式\n",
    "np.random.random((3,5))\n",
    "np.random.randint(0, 10) #生成一个从0-10的一个数\n",
    "np.random.randint(0, 10,size=10) #生成一个从0-10的数组，共十个，array形式\n",
    "np.random.randint(0, 10,size=(3,5))\n",
    "#np.random.seed(666)#指定种子，使得每次生成的随机数一样\n",
    "np.random.normal()\n",
    "np.random.normal(10,100,(3,5)) #均值为10，方差为100,size=(3,5)\n"
   ]
  },
  {
   "cell_type": "code",
   "execution_count": null,
   "metadata": {},
   "outputs": [],
   "source": [
    "#三、array的合并与分割\n",
    "x = np.array([1,2,3])\n",
    "y = np.array([3,2,1])\n",
    "np.concatenate([x,y]) #array([1,2,3,3,2,1])\n",
    "z = np.array([666,666,666])\n",
    "np.concatenate([x,y,z])#合并为一维\n",
    "A = np.array([[1,2,3],\n",
    "              [4,5,6]])\n",
    "np.concatenate([A,A]) #out:array([[1,2,3],[4,5,6],[1,2,3],[4,5,6]])\n",
    "np.concatenate([A,A],axis=1) #axis默认为0（合并为下一行），axis=1（合并为下一列)\n",
    "                             #out:array([[1,2,3,1,2,3],[4,5,6,4,5,6]])\n",
    "                             #concatenate只能拼接同一维度的数据，所以直接concattenate(A,z)会错\n",
    "np.concatenate([A,z.reshape(1,-1)]) #reshape(1,-1)，共1行，第2个维度自动计算\n",
    "                             #out:1,2,3\n",
    "                             #    4,5,6\n",
    "                             #    666,666,666\n",
    "np.vstack(A,z) #垂直方向合并,容错性更好 ****   行增大的方向\n",
    "#np.hstack()   #水平方向****\n",
    "\n",
    "#array的分割\n",
    "x = np.arange(10)\n",
    "x1, x2, x3 = np.split(x,[3, 7]) #分割点为3，7，[]中可填写多个数据\n",
    "                                #x1:0-2, x2:3-6, x3:7-最后，左闭右开规律\n",
    "x1, x2 = np.split(x,[5])\n",
    "A = np.arange(16).reshape((4,4))\n",
    "np.split(A,[2]) #默认按行\n",
    "np.split(A,[2],axis=1) #=1按列\n",
    "\n",
    "np.vsplit(A,[2]) #垂直分割，分为上下两部分\n",
    "np.hsplit(A,[2]) #水平分割，分为左右两部分"
   ]
  },
  {
   "cell_type": "markdown",
   "metadata": {},
   "source": [
    "## 三、array的矩阵运算"
   ]
  },
  {
   "cell_type": "code",
   "execution_count": 9,
   "metadata": {},
   "outputs": [
    {
     "data": {
      "text/plain": [
       "array([0, 2, 4])"
      ]
     },
     "execution_count": 9,
     "metadata": {},
     "output_type": "execute_result"
    }
   ],
   "source": [
    "# 原生的array中矩阵运算有不便的地方，比如加倍的操作a = [2*i for i in arange(1000)] 就很慢\n",
    "# numpy中的array效率更高，而且支持直接 a*2 的操作\n",
    "a = np.arange(3)\n",
    "a*2"
   ]
  },
  {
   "cell_type": "code",
   "execution_count": 17,
   "metadata": {},
   "outputs": [
    {
     "name": "stdout",
     "output_type": "stream",
     "text": [
      "[[ 1  2  3  4  5]\n",
      " [ 6  7  8  9 10]\n",
      " [11 12 13 14 15]]\n",
      "[[ 2  3  4  5  6]\n",
      " [ 7  8  9 10 11]\n",
      " [12 13 14 15 16]]\n",
      "[[ 0  1  2  3  4]\n",
      " [ 5  6  7  8  9]\n",
      " [10 11 12 13 14]]\n",
      "===乘除===\n",
      "[[ 2  4  6  8 10]\n",
      " [12 14 16 18 20]\n",
      " [22 24 26 28 30]]\n",
      "[[0.5 1.  1.5 2.  2.5]\n",
      " [3.  3.5 4.  4.5 5. ]\n",
      " [5.5 6.  6.5 7.  7.5]]\n",
      "[[0 1 1 2 2]\n",
      " [3 3 4 4 5]\n",
      " [5 6 6 7 7]]\n",
      "===乘方===\n",
      "[[  1   4   9  16  25]\n",
      " [ 36  49  64  81 100]\n",
      " [121 144 169 196 225]]\n",
      "===求余===\n",
      "[[1 0 1 0 1]\n",
      " [0 1 0 1 0]\n",
      " [1 0 1 0 1]]\n",
      "===倒数===\n",
      "[[1.         0.5        0.33333333 0.25       0.2       ]\n",
      " [0.16666667 0.14285714 0.125      0.11111111 0.1       ]\n",
      " [0.09090909 0.08333333 0.07692308 0.07142857 0.06666667]]\n",
      "===三角函数===\n",
      "[[ 0.84147098  0.90929743  0.14112001 -0.7568025  -0.95892427]\n",
      " [-0.2794155   0.6569866   0.98935825  0.41211849 -0.54402111]\n",
      " [-0.99999021 -0.53657292  0.42016704  0.99060736  0.65028784]]\n",
      "===n^x===\n",
      "[[2.71828183e+00 7.38905610e+00 2.00855369e+01 5.45981500e+01\n",
      "  1.48413159e+02]\n",
      " [4.03428793e+02 1.09663316e+03 2.98095799e+03 8.10308393e+03\n",
      "  2.20264658e+04]\n",
      " [5.98741417e+04 1.62754791e+05 4.42413392e+05 1.20260428e+06\n",
      "  3.26901737e+06]]\n",
      "[[       3        9       27       81      243]\n",
      " [     729     2187     6561    19683    59049]\n",
      " [  177147   531441  1594323  4782969 14348907]]\n",
      "===log===\n",
      "[[0.         0.69314718 1.09861229 1.38629436 1.60943791]\n",
      " [1.79175947 1.94591015 2.07944154 2.19722458 2.30258509]\n",
      " [2.39789527 2.48490665 2.56494936 2.63905733 2.7080502 ]]\n",
      "[[0.         1.         1.5849625  2.         2.32192809]\n",
      " [2.5849625  2.80735492 3.         3.169925   3.32192809]\n",
      " [3.45943162 3.5849625  3.70043972 3.80735492 3.9068906 ]]\n",
      "[[0.         0.30103    0.47712125 0.60205999 0.69897   ]\n",
      " [0.77815125 0.84509804 0.90308999 0.95424251 1.        ]\n",
      " [1.04139269 1.07918125 1.11394335 1.14612804 1.17609126]]\n"
     ]
    }
   ],
   "source": [
    "## 单一矩阵的运算\n",
    "a = np.arange(1,16).reshape(3,5)\n",
    "print(a)\n",
    "print(a+1)\n",
    "print(a-1)\n",
    "print(\"===乘除===\")\n",
    "print(a*2)\n",
    "print(a/2) #浮点数的除法\n",
    "print(a//2)#整数的除法\n",
    "print(\"===乘方===\")\n",
    "print(a**2)#乘方\n",
    "print(\"===求余===\")\n",
    "print(a%2)\n",
    "print(\"===倒数===\")\n",
    "print(1/a)#取倒数\n",
    "print(\"===三角函数===\")\n",
    "print(np.sin(a))#正弦，余弦np.cos，正切np.tan\n",
    "print(\"===n^x===\")\n",
    "print(np.exp(a)) #e^a[][]\n",
    "print(np.power(3,a))#3^a[][]\n",
    "print(\"===log===\")\n",
    "print(np.log(a)) #ln a[][]\n",
    "print(np.log2(a))#log2 a[][]\n",
    "print(np.log10(a))#log10 a[][]"
   ]
  },
  {
   "cell_type": "code",
   "execution_count": 27,
   "metadata": {},
   "outputs": [
    {
     "name": "stdout",
     "output_type": "stream",
     "text": [
      "[[0 1]\n",
      " [2 3]]\n",
      "[[10 10]\n",
      " [10 10]]\n",
      "===A+B===\n",
      "[[10 11]\n",
      " [12 13]]\n",
      "===A-B===\n",
      "[[-10  -9]\n",
      " [ -8  -7]]\n",
      "===A*B===\n",
      "[[ 0 10]\n",
      " [20 30]]\n",
      "===A/B===\n",
      "[[0.  0.1]\n",
      " [0.2 0.3]]\n",
      "===矩阵的标准乘法===\n",
      "[[10 10]\n",
      " [50 50]]\n",
      "===矩阵的转置===\n",
      "[[0 2]\n",
      " [1 3]]\n"
     ]
    }
   ],
   "source": [
    "## 矩阵之间的运算\n",
    "A = np.arange(4).reshape(2,2)\n",
    "print(A)\n",
    "B = np.full((2,2),10)\n",
    "print(B)\n",
    "print(\"===A+B===\")\n",
    "print(A+B)\n",
    "print(\"===A-B===\")\n",
    "print(A-B)\n",
    "print(\"===A*B===\")\n",
    "print(A*B) #A[i][j] * B[i][j],不是矩阵的标准乘法，只是每个元素的乘法\n",
    "print(\"===A/B===\")\n",
    "print(A/B)\n",
    "print(\"===矩阵的标准乘法===\")\n",
    "print(A.dot(B))\n",
    "print(\"===矩阵的转置===\")\n",
    "print(A.T)"
   ]
  },
  {
   "cell_type": "code",
   "execution_count": 42,
   "metadata": {},
   "outputs": [
    {
     "name": "stdout",
     "output_type": "stream",
     "text": [
      "[[0 1]\n",
      " [2 3]]\n",
      "[1 2]\n",
      "===v+A===\n",
      "[[1 3]\n",
      " [3 5]]\n",
      "===向量填充===\n",
      "[[1 2]\n",
      " [1 2]]\n",
      "[[1 2]\n",
      " [1 2]]\n",
      "===矩阵、向量乘法===\n",
      "[[0 2]\n",
      " [2 6]]\n",
      "===矩阵、向量标准乘法===\n",
      "[4 7]\n",
      "(2,)\n",
      "[2 8]\n",
      "(2,)\n",
      "[2 8]\n",
      "(2,)\n",
      "(2,)\n",
      "(2,)\n"
     ]
    }
   ],
   "source": [
    "## 向量与矩阵的运算\n",
    "A = np.arange(4).reshape(2,2)\n",
    "print(A)\n",
    "v = np.array([1,2])\n",
    "print(v)\n",
    "print(\"===v+A===\")\n",
    "print(v + A) #矩阵的每一行或列 + 向量；这在数学中没有定义\n",
    "print(\"===向量填充===\")\n",
    "print(np.vstack([v]*A.shape[0]))#v 垂直方向，合并A的行数倍\n",
    "print(np.tile(v,(2,1))) #v 填充，2行，1列\n",
    "print(\"===矩阵、向量乘法===\")\n",
    "print(v * A) # v 与 A每行（或列）的元素单一乘法\n",
    "print(\"===矩阵、向量标准乘法===\")\n",
    "print(v.dot(A)) # 1x2 2x2\n",
    "print(v.dot(A).shape)\n",
    "print(A.dot(v)) # 2x2 1x2 ,但是dot会自动将行向量转换为列向量*******\n",
    "print(A.dot(v).shape) #但是这样原本应该得到的列向量会变成行向量，所以不准，需要判断\n",
    "print(v.T.shape) #同样v的转置本应该是列向量却也变成了行向量 ********"
   ]
  },
  {
   "cell_type": "code",
   "execution_count": 46,
   "metadata": {},
   "outputs": [
    {
     "name": "stdout",
     "output_type": "stream",
     "text": [
      "[[0 1]\n",
      " [2 3]]\n",
      "===矩阵逆运算===\n",
      "[[-1.5  0.5]\n",
      " [ 1.   0. ]]\n",
      "===矩阵伪逆运算===\n",
      "[[-2.26666667e-01 -6.66666667e-02  9.33333333e-02]\n",
      " [-1.23333333e-01 -3.33333333e-02  5.66666667e-02]\n",
      " [-2.00000000e-02 -5.20417043e-18  2.00000000e-02]\n",
      " [ 8.33333333e-02  3.33333333e-02 -1.66666667e-02]\n",
      " [ 1.86666667e-01  6.66666667e-02 -5.33333333e-02]]\n"
     ]
    }
   ],
   "source": [
    "## 矩阵的逆运算\n",
    "A = np.arange(4).reshape(2,2)\n",
    "print(A)\n",
    "print(\"===矩阵逆运算===\")\n",
    "print(np.linalg.inv(A)) #矩阵的逆\n",
    "print(\"===矩阵伪逆运算===\")\n",
    "A = np.arange(15).reshape(3,5)\n",
    "print(np.linalg.pinv(A)) #矩阵的伪逆，虽然不是方阵，所以只满足 A * A伪逆 = E"
   ]
  },
  {
   "cell_type": "markdown",
   "metadata": {},
   "source": [
    "## 四、numpy.array的聚合运算(一组值得出一个值)"
   ]
  },
  {
   "cell_type": "code",
   "execution_count": 2,
   "metadata": {},
   "outputs": [
    {
     "ename": "NameError",
     "evalue": "name 'np' is not defined",
     "output_type": "error",
     "traceback": [
      "\u001b[1;31m---------------------------------------------------------------------------\u001b[0m",
      "\u001b[1;31mNameError\u001b[0m                                 Traceback (most recent call last)",
      "\u001b[1;32m<ipython-input-2-c5525b5d873f>\u001b[0m in \u001b[0;36m<module>\u001b[1;34m\u001b[0m\n\u001b[1;32m----> 1\u001b[1;33m \u001b[0mL\u001b[0m \u001b[1;33m=\u001b[0m \u001b[0mnp\u001b[0m\u001b[1;33m.\u001b[0m\u001b[0marange\u001b[0m\u001b[1;33m(\u001b[0m\u001b[1;36m100\u001b[0m\u001b[1;33m)\u001b[0m\u001b[1;33m\u001b[0m\u001b[1;33m\u001b[0m\u001b[0m\n\u001b[0m\u001b[0;32m      2\u001b[0m \u001b[0mprint\u001b[0m\u001b[1;33m(\u001b[0m\u001b[0mL\u001b[0m\u001b[1;33m)\u001b[0m\u001b[1;33m\u001b[0m\u001b[1;33m\u001b[0m\u001b[0m\n\u001b[0;32m      3\u001b[0m \u001b[0mprint\u001b[0m\u001b[1;33m(\u001b[0m\u001b[0msum\u001b[0m\u001b[1;33m(\u001b[0m\u001b[0mL\u001b[0m\u001b[1;33m)\u001b[0m\u001b[1;33m)\u001b[0m\u001b[1;33m\u001b[0m\u001b[1;33m\u001b[0m\u001b[0m\n\u001b[0;32m      4\u001b[0m \u001b[0mprint\u001b[0m\u001b[1;33m(\u001b[0m\u001b[0mnp\u001b[0m\u001b[1;33m.\u001b[0m\u001b[0msum\u001b[0m\u001b[1;33m(\u001b[0m\u001b[0mL\u001b[0m\u001b[1;33m)\u001b[0m\u001b[1;33m)\u001b[0m \u001b[1;31m# 效率高\u001b[0m\u001b[1;33m\u001b[0m\u001b[1;33m\u001b[0m\u001b[0m\n\u001b[0;32m      5\u001b[0m \u001b[0mprint\u001b[0m\u001b[1;33m(\u001b[0m\u001b[0mnp\u001b[0m\u001b[1;33m.\u001b[0m\u001b[0mmax\u001b[0m\u001b[1;33m(\u001b[0m\u001b[0mL\u001b[0m\u001b[1;33m)\u001b[0m\u001b[1;33m)\u001b[0m \u001b[1;31m# 求最大值\u001b[0m\u001b[1;33m\u001b[0m\u001b[1;33m\u001b[0m\u001b[0m\n",
      "\u001b[1;31mNameError\u001b[0m: name 'np' is not defined"
     ]
    }
   ],
   "source": [
    "L = np.arange(100)\n",
    "print(L)\n",
    "print(sum(L))\n",
    "print(np.sum(L)) # 效率高\n",
    "print(np.max(L)) # 求最大值"
   ]
  },
  {
   "cell_type": "code",
   "execution_count": 11,
   "metadata": {},
   "outputs": [
    {
     "name": "stdout",
     "output_type": "stream",
     "text": [
      "[[ 0  1  2  3]\n",
      " [ 4  5  6  7]\n",
      " [ 8  9 10 11]\n",
      " [12 13 14 15]]\n",
      "\n",
      "\n",
      "120\n",
      "[24 28 32 36]\n"
     ]
    }
   ],
   "source": [
    "X = np.arange(16).reshape(4,-1)\n",
    "print(X)\n",
    "print('\\n')\n",
    "print(np.sum(X))\n",
    "print(np.sum(X,axis=0)) # axis=0代表行维度（记忆：把行给压缩掉，即每列的和）*******\n",
    "                        # 或者理解为 沿着 行+1 的方向"
   ]
  },
  {
   "cell_type": "code",
   "execution_count": 17,
   "metadata": {},
   "outputs": [
    {
     "name": "stdout",
     "output_type": "stream",
     "text": [
      "[ 0  1  2  3  4  5  6  7  8  9 10 11 12 13 14 15 16 17 18 19 20 21 22 23\n",
      " 24 25 26 27 28 29 30 31 32 33 34 35 36 37 38 39 40 41 42 43 44 45 46 47\n",
      " 48 49 50 51 52 53 54 55 56 57 58 59 60 61 62 63 64 65 66 67 68 69 70 71\n",
      " 72 73 74 75 76 77 78 79 80 81 82 83 84 85 86 87 88 89 90 91 92 93 94 95\n",
      " 96 97 98 99]\n",
      "===乘积===\n",
      "0\n",
      "2004189184\n",
      "===平均值===\n",
      "7.5\n",
      "===中位数===\n",
      "7.5\n",
      "===百分位===\n",
      "7.5\n",
      "0.0\n",
      "3.75\n",
      "7.5\n",
      "11.25\n",
      "15.0\n",
      "===方差===\n",
      "21.25\n",
      "===标准差===\n",
      "4.6097722286464435\n"
     ]
    }
   ],
   "source": [
    "print(L)\n",
    "print(\"===乘积===\")\n",
    "print(np.prod(X))  #所有元素乘积\n",
    "print(np.prod(X+1))\n",
    "print(\"===平均值===\")\n",
    "print(np.mean(X))  #平均值\n",
    "print(\"===中位数===\")\n",
    "print(np.median(X))#中位数\n",
    "print(\"===百分位===\")\n",
    "print(np.percentile(X,q=50)) #百分位，50%的元素都小于等于\n",
    "for percent in [0,25,50,75,100]:\n",
    "    print(np.percentile(X,q=percent))\n",
    "print(\"===方差===\")\n",
    "print(np.var(X))\n",
    "print(\"===标准差===\")\n",
    "print(np.std(X))"
   ]
  },
  {
   "cell_type": "markdown",
   "metadata": {},
   "source": [
    "## 五、numpy.array的索引和排序"
   ]
  },
  {
   "cell_type": "code",
   "execution_count": 20,
   "metadata": {},
   "outputs": [
    {
     "name": "stdout",
     "output_type": "stream",
     "text": [
      "-4.492037448007584\n",
      "430970\n",
      "-4.492037448007584\n"
     ]
    }
   ],
   "source": [
    "x = np.random.normal(0,1,size = 1000000) #均值0，方差1，数量1000000\n",
    "print(np.min(x))\n",
    "print(np.argmin(x)) #最小值对应的下标\n",
    "print(x[np.argmin(x)])"
   ]
  },
  {
   "cell_type": "code",
   "execution_count": 27,
   "metadata": {},
   "outputs": [
    {
     "name": "stdout",
     "output_type": "stream",
     "text": [
      "[ 0  1  2  3  4  5  6  7  8  9 10 11 12 13 14 15]\n",
      "[ 2 12  6 10  5  0  3  8 15  7  4 14  9 13  1 11]\n",
      "[ 0  1  2  3  4  5  6  7  8  9 10 11 12 13 14 15]\n"
     ]
    }
   ],
   "source": [
    "x = np.arange(16)\n",
    "print(x)\n",
    "np.random.shuffle(x) # x 乱序 \n",
    "print(x)\n",
    "x = np.sort(x) # x 排序,要 = *********\n",
    "print(x)"
   ]
  },
  {
   "cell_type": "code",
   "execution_count": 38,
   "metadata": {},
   "outputs": [
    {
     "name": "stdout",
     "output_type": "stream",
     "text": [
      "[[1 2 1 4]\n",
      " [9 4 0 8]\n",
      " [0 1 9 1]\n",
      " [5 0 0 6]]\n",
      "===排序===\n",
      "[[1 1 2 4]\n",
      " [0 4 8 9]\n",
      " [0 1 1 9]\n",
      " [0 0 5 6]]\n",
      "===排序axis为1===\n",
      "[[1 1 2 4]\n",
      " [0 4 8 9]\n",
      " [0 1 1 9]\n",
      " [0 0 5 6]]\n",
      "===排序axis为=0===\n",
      "[[0 0 0 1]\n",
      " [1 1 0 4]\n",
      " [5 2 1 6]\n",
      " [9 4 9 8]]\n",
      "[[0 2 1 3]\n",
      " [2 1 3 0]\n",
      " [0 1 3 2]\n",
      " [1 2 0 3]]\n",
      "[[1 1 2 4]\n",
      " [0 4 8 9]\n",
      " [0 1 1 9]\n",
      " [0 0 5 6]]\n"
     ]
    }
   ],
   "source": [
    "# 二维数组排序\n",
    "X = np.random.randint(10,size=(4,4))\n",
    "print(X)\n",
    "print(\"===排序===\")\n",
    "print(np.sort(X)) # 每行排序\n",
    "print(\"===排序axis为1===\")\n",
    "print(np.sort(X,axis=1)) # axis默认为1 （沿着列+1的方向）\n",
    "print(\"===排序axis为=0===\")\n",
    "print(np.sort(X,axis=0))\n",
    "print(np.argsort(X)) #输出排序后的原下标"
   ]
  },
  {
   "cell_type": "code",
   "execution_count": 41,
   "metadata": {
    "scrolled": true
   },
   "outputs": [
    {
     "name": "stdout",
     "output_type": "stream",
     "text": [
      "[27  3 14 19  8 17 19 15  0  3]\n",
      "[ 3  3  0  8 14 15 17 19 19 27]\n",
      "[1 9 8 4 2 7 5 6 3 0]\n"
     ]
    }
   ],
   "source": [
    "x = np.random.randint(30,size = 10)\n",
    "print(x)\n",
    "print(np.partition(x,5)) #比5小的，比5大的左右后分开（对二维也行，不过是针对每一行的）\n",
    "                         #但不是完全排序\n",
    "print(np.argpartition(x,5)) #对应下标"
   ]
  },
  {
   "cell_type": "markdown",
   "metadata": {},
   "source": [
    "## 六、numpy.array   Fancy Indexing 以及比较"
   ]
  },
  {
   "cell_type": "code",
   "execution_count": 44,
   "metadata": {},
   "outputs": [
    {
     "name": "stdout",
     "output_type": "stream",
     "text": [
      "[ 0  1  2  3  4  5  6  7  8  9 10 11 12 13 14 15]\n",
      "[3, 5, 8]\n",
      "[3 5 8]\n"
     ]
    }
   ],
   "source": [
    "x = np.arange(16)\n",
    "print(x)\n",
    "print([x[3],x[5],x[8]])\n",
    "ind = [3,5,8]\n",
    "print(x[ind]) #Fancy Indexing"
   ]
  },
  {
   "cell_type": "code",
   "execution_count": 55,
   "metadata": {},
   "outputs": [
    {
     "name": "stdout",
     "output_type": "stream",
     "text": [
      "[[0 2]\n",
      " [1 3]]\n"
     ]
    }
   ],
   "source": [
    "ind = np.array([[0,2],[1,3]]) #索引\n",
    "print(x[ind])"
   ]
  },
  {
   "cell_type": "code",
   "execution_count": 52,
   "metadata": {},
   "outputs": [
    {
     "name": "stdout",
     "output_type": "stream",
     "text": [
      "[[ 0  1  2  3]\n",
      " [ 4  5  6  7]\n",
      " [ 8  9 10 11]\n",
      " [12 13 14 15]]\n",
      "\n",
      "\n",
      "[ 1  6 11]\n",
      "\n",
      "\n",
      "[1 2 3]\n",
      "\n",
      "\n",
      "[[1 2 3]\n",
      " [5 6 7]]\n",
      "\n",
      "\n",
      "[[ 4  6  7]\n",
      " [ 8 10 11]]\n"
     ]
    }
   ],
   "source": [
    "X = x.reshape(4,-1)\n",
    "print(X)\n",
    "row = np.array([0,1,2])\n",
    "col = np.array([1,2,3])\n",
    "print('\\n')\n",
    "print(X[row,col])\n",
    "print('\\n')\n",
    "print(X[0,col])\n",
    "print('\\n')\n",
    "print(X[:2,col]) #前两行对应的 col 的数据\n",
    "print('\\n')\n",
    "col = [True,False,True,True] # *************\n",
    "print(X[1:3,col])"
   ]
  },
  {
   "cell_type": "code",
   "execution_count": 70,
   "metadata": {},
   "outputs": [
    {
     "name": "stdout",
     "output_type": "stream",
     "text": [
      "[ 0  1  2  3  4  5  6  7  8  9 10 11 12 13 14 15]\n",
      "[ True  True  True False False False False False False False False False\n",
      " False False False False]\n",
      "[False False False False  True False False False False False False False\n",
      " False False False False]\n",
      "3\n",
      "3\n",
      "True\n",
      "False\n",
      "\n",
      "\n",
      "[[ 0  1  2  3]\n",
      " [ 4  5  6  7]\n",
      " [ 8  9 10 11]\n",
      " [12 13 14 15]]\n",
      "[[ True  True  True  True]\n",
      " [ True  True False False]\n",
      " [False False False False]\n",
      " [False False False False]]\n",
      "8\n",
      "[2 2 2 2]\n"
     ]
    }
   ],
   "source": [
    "print(x)\n",
    "print(x<3) #************\n",
    "print(2*x == 24-4*x)#************\n",
    "print(np.sum(x<3)) #输出几个数<3 *******\n",
    "print(np.count_nonzero(x<3))#输出几个数不为0 *******\n",
    "print(np.any(x<3))#是否存在不为0的数 *******\n",
    "print(np.all(x<3))#是否全部满足 *******\n",
    "print('\\n')\n",
    "print(X)\n",
    "print(X<6)\n",
    "print(np.sum(X%2 ==0 ))\n",
    "print(np.sum(X%2 ==0 ,axis = 1)) #每行有多少偶数，all,any同样"
   ]
  },
  {
   "cell_type": "code",
   "execution_count": 72,
   "metadata": {},
   "outputs": [
    {
     "name": "stdout",
     "output_type": "stream",
     "text": [
      "[False False False False  True  True  True  True  True  True False False\n",
      " False False False False]\n",
      "[ True  True  True  True  True  True  True  True  True  True  True  True\n",
      "  True  True  True  True]\n",
      "[ True  True  True  True False False False False False False False False\n",
      " False False False False]\n"
     ]
    }
   ],
   "source": [
    "print((x>3)&(x<10)) # 不是&& **************************\n",
    "                    # 因为&&是连接两个bool值，但是这里连接的是两个数组，\n",
    "                    # 这里相当于位运算\n",
    "print((x>3)|(x<10))\n",
    "print(~(x>3))  #不要写 not*********"
   ]
  },
  {
   "cell_type": "code",
   "execution_count": 74,
   "metadata": {},
   "outputs": [
    {
     "name": "stdout",
     "output_type": "stream",
     "text": [
      "[0 1 2 3 4]\n",
      "[ 0  2  4  6  8 10 12 14]\n"
     ]
    }
   ],
   "source": [
    "print(x[x<5]) #满足x<5 的具体的值是\n",
    "print(x[x%2==0])"
   ]
  },
  {
   "cell_type": "code",
   "execution_count": 85,
   "metadata": {
    "scrolled": true
   },
   "outputs": [
    {
     "name": "stdout",
     "output_type": "stream",
     "text": [
      "[[ 0  1  2  3]\n",
      " [ 4  5  6  7]\n",
      " [ 8  9 10 11]\n",
      " [12 13 14 15]]\n",
      "[ 3  7 11 15]\n",
      "[ True False False  True]\n",
      "[[ 0  1  2  3]\n",
      " [12 13 14 15]]\n",
      "[[ 0  1  2  3]\n",
      " [12 13 14 15]]\n"
     ]
    }
   ],
   "source": [
    "print(X)\n",
    "print(X[:,3]) #第3列\n",
    "print(X[:,3]%3==0) #满足第3列可以整除3的行\n",
    "print(X[X[:,3]%3==0]) #取出这些行\n",
    "print(X[X[:,3]%3==0,:]) #完整写法"
   ]
  },
  {
   "cell_type": "markdown",
   "metadata": {},
   "source": [
    "#一般先用pandas预处理数据，再将数据转换为numpy的矩阵，再送给机器学习算法"
   ]
  }
 ],
 "metadata": {
  "kernelspec": {
   "display_name": "Python 3",
   "language": "python",
   "name": "python3"
  },
  "language_info": {
   "codemirror_mode": {
    "name": "ipython",
    "version": 3
   },
   "file_extension": ".py",
   "mimetype": "text/x-python",
   "name": "python",
   "nbconvert_exporter": "python",
   "pygments_lexer": "ipython3",
   "version": "3.7.7"
  }
 },
 "nbformat": 4,
 "nbformat_minor": 2
}
