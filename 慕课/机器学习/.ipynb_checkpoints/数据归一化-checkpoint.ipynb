{
 "cells": [
  {
   "cell_type": "code",
   "execution_count": 3,
   "metadata": {},
   "outputs": [],
   "source": [
    "import numpy as np\n",
    "import matplotlib.pyplot as plt"
   ]
  },
  {
   "cell_type": "markdown",
   "metadata": {},
   "source": [
    "### 最值归一化（适用于数据有边界的情况，将数据映射到0-1之间）"
   ]
  },
  {
   "cell_type": "code",
   "execution_count": 8,
   "metadata": {},
   "outputs": [
    {
     "name": "stdout",
     "output_type": "stream",
     "text": [
      "[42 46 64 56 13 67  4  8 64 20 76 64 22 95 58 54 32  6 97 21 23 90 28 81\n",
      " 63 57 58 43 76  1 96 30 90 38 64 88 17 49 87 73 73 80 45 17  6 17 63  9\n",
      "  3 38  1 16 78 19 29 34 58 40 83 55 53 72 89  0 87 66 28  7 64 44 50 99\n",
      " 48 71 80  1 11 16 98 62 18 83 72 18 92 53 19 28  7 84 60 78 80 86 23 79\n",
      " 11 94 45 71]\n"
     ]
    }
   ],
   "source": [
    "x = np.random.randint(0,100,size=100)\n",
    "print(x)"
   ]
  },
  {
   "cell_type": "code",
   "execution_count": 9,
   "metadata": {},
   "outputs": [
    {
     "data": {
      "text/plain": [
       "array([0.42424242, 0.46464646, 0.64646465, 0.56565657, 0.13131313,\n",
       "       0.67676768, 0.04040404, 0.08080808, 0.64646465, 0.2020202 ,\n",
       "       0.76767677, 0.64646465, 0.22222222, 0.95959596, 0.58585859,\n",
       "       0.54545455, 0.32323232, 0.06060606, 0.97979798, 0.21212121,\n",
       "       0.23232323, 0.90909091, 0.28282828, 0.81818182, 0.63636364,\n",
       "       0.57575758, 0.58585859, 0.43434343, 0.76767677, 0.01010101,\n",
       "       0.96969697, 0.3030303 , 0.90909091, 0.38383838, 0.64646465,\n",
       "       0.88888889, 0.17171717, 0.49494949, 0.87878788, 0.73737374,\n",
       "       0.73737374, 0.80808081, 0.45454545, 0.17171717, 0.06060606,\n",
       "       0.17171717, 0.63636364, 0.09090909, 0.03030303, 0.38383838,\n",
       "       0.01010101, 0.16161616, 0.78787879, 0.19191919, 0.29292929,\n",
       "       0.34343434, 0.58585859, 0.4040404 , 0.83838384, 0.55555556,\n",
       "       0.53535354, 0.72727273, 0.8989899 , 0.        , 0.87878788,\n",
       "       0.66666667, 0.28282828, 0.07070707, 0.64646465, 0.44444444,\n",
       "       0.50505051, 1.        , 0.48484848, 0.71717172, 0.80808081,\n",
       "       0.01010101, 0.11111111, 0.16161616, 0.98989899, 0.62626263,\n",
       "       0.18181818, 0.83838384, 0.72727273, 0.18181818, 0.92929293,\n",
       "       0.53535354, 0.19191919, 0.28282828, 0.07070707, 0.84848485,\n",
       "       0.60606061, 0.78787879, 0.80808081, 0.86868687, 0.23232323,\n",
       "       0.7979798 , 0.11111111, 0.94949495, 0.45454545, 0.71717172])"
      ]
     },
     "execution_count": 9,
     "metadata": {},
     "output_type": "execute_result"
    }
   ],
   "source": [
    "(x - np.min(x)) / (np.max(x) - np.min(x))"
   ]
  },
  {
   "cell_type": "code",
   "execution_count": 32,
   "metadata": {},
   "outputs": [],
   "source": [
    "X = np.random.randint(0,100,(50,2))"
   ]
  },
  {
   "cell_type": "code",
   "execution_count": 33,
   "metadata": {},
   "outputs": [
    {
     "data": {
      "text/plain": [
       "array([[10, 82],\n",
       "       [48, 42],\n",
       "       [ 8, 74],\n",
       "       [75,  4],\n",
       "       [11, 69],\n",
       "       [82, 78],\n",
       "       [57, 67],\n",
       "       [81, 93],\n",
       "       [92, 33],\n",
       "       [40, 54]])"
      ]
     },
     "execution_count": 33,
     "metadata": {},
     "output_type": "execute_result"
    }
   ],
   "source": [
    "X[:10,:]"
   ]
  },
  {
   "cell_type": "code",
   "execution_count": 28,
   "metadata": {},
   "outputs": [
    {
     "name": "stdout",
     "output_type": "stream",
     "text": [
      "[[ 0 93]\n",
      " [ 0  3]\n",
      " [ 0 31]\n",
      " [ 0 85]\n",
      " [ 0 33]\n",
      " [ 0 98]\n",
      " [ 0 85]\n",
      " [ 0 37]\n",
      " [ 0 88]\n",
      " [ 1 65]]\n"
     ]
    }
   ],
   "source": [
    "X[:,0] = (X[:,0] - np.min(X[:,0])) / (np.max(X[:,0]) - np.min(X[:,0]))\n",
    "print(X[:10,:])"
   ]
  },
  {
   "cell_type": "code",
   "execution_count": 34,
   "metadata": {},
   "outputs": [],
   "source": [
    "X = np.array(X, dtype=float) #先变为浮点数才能除到小数"
   ]
  },
  {
   "cell_type": "code",
   "execution_count": 35,
   "metadata": {},
   "outputs": [],
   "source": [
    "X[:,0] = (X[:,0] - np.min(X[:,0])) / (np.max(X[:,0]) - np.min(X[:,0]))\n",
    "X[:,1] = (X[:,1] - np.min(X[:,1])) / (np.max(X[:,1]) - np.min(X[:,1]))"
   ]
  },
  {
   "cell_type": "code",
   "execution_count": 36,
   "metadata": {},
   "outputs": [
    {
     "data": {
      "text/plain": [
       "array([[0.10309278, 0.82653061],\n",
       "       [0.49484536, 0.41836735],\n",
       "       [0.08247423, 0.74489796],\n",
       "       [0.77319588, 0.03061224],\n",
       "       [0.11340206, 0.69387755],\n",
       "       [0.84536082, 0.78571429],\n",
       "       [0.58762887, 0.67346939],\n",
       "       [0.83505155, 0.93877551],\n",
       "       [0.94845361, 0.32653061],\n",
       "       [0.41237113, 0.54081633]])"
      ]
     },
     "execution_count": 36,
     "metadata": {},
     "output_type": "execute_result"
    }
   ],
   "source": [
    "X[:10,:]"
   ]
  },
  {
   "cell_type": "code",
   "execution_count": 38,
   "metadata": {},
   "outputs": [
    {
     "data": {
      "image/png": "[encoded data removed]",
      "text/plain": [
       "<Figure size 432x288 with 1 Axes>"
      ]
     },
     "metadata": {
      "needs_background": "light"
     },
     "output_type": "display_data"
    }
   ],
   "source": [
    "plt.scatter(X[:,0],X[:,1])\n",
    "plt.show()"
   ]
  },
  {
   "cell_type": "code",
   "execution_count": 41,
   "metadata": {},
   "outputs": [
    {
     "name": "stdout",
     "output_type": "stream",
     "text": [
      "0.5055670103092783\n",
      "0.4902040816326531\n"
     ]
    }
   ],
   "source": [
    "print(np.mean(X[:,0])) #均值\n",
    "print(np.mean(X[:,1]))"
   ]
  },
  {
   "cell_type": "code",
   "execution_count": 42,
   "metadata": {},
   "outputs": [
    {
     "name": "stdout",
     "output_type": "stream",
     "text": [
      "0.2902090970537515\n",
      "0.31155024771505474\n"
     ]
    }
   ],
   "source": [
    "print(np.std(X[:,0])) #方差\n",
    "print(np.std(X[:,1]))"
   ]
  },
  {
   "cell_type": "markdown",
   "metadata": {},
   "source": [
    "### 均值方差归一化 Standardization（数据映射后均值0，方差1）"
   ]
  },
  {
   "cell_type": "code",
   "execution_count": 46,
   "metadata": {},
   "outputs": [],
   "source": [
    "X2 = np.random.randint(0,100,(50,2))"
   ]
  },
  {
   "cell_type": "code",
   "execution_count": 47,
   "metadata": {},
   "outputs": [],
   "source": [
    "X2 = np.array(X2,dtype=float)"
   ]
  },
  {
   "cell_type": "code",
   "execution_count": 49,
   "metadata": {},
   "outputs": [],
   "source": [
    "X2[:,0] = (X2[:,0] - np.mean(X2[:,0])) / np.std(X2[:,0])\n",
    "X2[:,1] = (X2[:,1] - np.mean(X2[:,1])) / np.std(X2[:,1])"
   ]
  },
  {
   "cell_type": "code",
   "execution_count": 50,
   "metadata": {},
   "outputs": [
    {
     "data": {
      "image/png": "[encoded data removed]",
      "text/plain": [
       "<Figure size 432x288 with 1 Axes>"
      ]
     },
     "metadata": {
      "needs_background": "light"
     },
     "output_type": "display_data"
    }
   ],
   "source": [
    "plt.scatter(X2[:,0],X2[:,1])\n",
    "plt.show()"
   ]
  },
  {
   "cell_type": "code",
   "execution_count": 51,
   "metadata": {},
   "outputs": [
    {
     "name": "stdout",
     "output_type": "stream",
     "text": [
      "-2.55351295663786e-17\n",
      "3.219646771412954e-17\n"
     ]
    }
   ],
   "source": [
    "print(np.mean(X2[:,0]))\n",
    "print(np.mean(X2[:,1]))"
   ]
  },
  {
   "cell_type": "code",
   "execution_count": 52,
   "metadata": {},
   "outputs": [
    {
     "name": "stdout",
     "output_type": "stream",
     "text": [
      "1.0\n",
      "1.0\n"
     ]
    }
   ],
   "source": [
    "print(np.std(X2[:,0])) #也有可能是0.9999999等\n",
    "print(np.std(X2[:,1]))"
   ]
  },
  {
   "cell_type": "markdown",
   "metadata": {},
   "source": [
    "### 自己封装的数据归一化"
   ]
  },
  {
   "cell_type": "code",
   "execution_count": 81,
   "metadata": {},
   "outputs": [],
   "source": [
    "### 均值方差归一化\n",
    "\n",
    "class StandardScaler:\n",
    "    def __init__(self):\n",
    "        self.mean_ = None\n",
    "        self.scale_ = None\n",
    "        \n",
    "    def fit(self,X):\n",
    "        \"\"\"根据训练数据集X获得数据的均值和方差\"\"\"\n",
    "        assert X.ndim == 2, \"The dimension of X must be 2\"\n",
    "        \n",
    "        self.mean_ = np.array([np.mean(X[:,i]) for i in range(X.shape[1])])\n",
    "        self.scale_= np.array([np.std(X[:,i]) for i in range(X.shape[1])])\n",
    "        \n",
    "        return self\n",
    "    \n",
    "    def tranform(self,X):\n",
    "        \"\"\"将X根据这个StandardScaler进行均值方差归一化处理\"\"\"\n",
    "        assert X.ndim == 2, \"The dimension of X must be 2\"\n",
    "        assert self.mean_ is not None and self.scale_ is not None, \\\n",
    "            \"must fit before transform !\"\n",
    "        assert X.shape[1] == len(self.mean_),\\\n",
    "            \"the feature number of X must be equal to mean_ and scale_\"\n",
    "        \n",
    "        resX = np.empty(shape=X.shape,dtype=float)\n",
    "        for col in range(X.shape[1]):\n",
    "            resX[:,col] = (X[:col] - self.mean_[col]) / self.scale_[col]\n",
    "        return resX"
   ]
  },
  {
   "cell_type": "markdown",
   "metadata": {},
   "source": [
    "### Scikit-learn中的数据归一化Scaler"
   ]
  },
  {
   "cell_type": "code",
   "execution_count": 55,
   "metadata": {},
   "outputs": [],
   "source": [
    "import numpy as np\n",
    "from sklearn import datasets"
   ]
  },
  {
   "cell_type": "code",
   "execution_count": 56,
   "metadata": {},
   "outputs": [],
   "source": [
    "iris = datasets.load_iris()"
   ]
  },
  {
   "cell_type": "code",
   "execution_count": 57,
   "metadata": {},
   "outputs": [],
   "source": [
    "X = iris.data\n",
    "y = iris.target"
   ]
  },
  {
   "cell_type": "code",
   "execution_count": 58,
   "metadata": {},
   "outputs": [
    {
     "data": {
      "text/plain": [
       "array([[5.1, 3.5, 1.4, 0.2],\n",
       "       [4.9, 3. , 1.4, 0.2],\n",
       "       [4.7, 3.2, 1.3, 0.2],\n",
       "       [4.6, 3.1, 1.5, 0.2],\n",
       "       [5. , 3.6, 1.4, 0.2],\n",
       "       [5.4, 3.9, 1.7, 0.4],\n",
       "       [4.6, 3.4, 1.4, 0.3],\n",
       "       [5. , 3.4, 1.5, 0.2],\n",
       "       [4.4, 2.9, 1.4, 0.2],\n",
       "       [4.9, 3.1, 1.5, 0.1]])"
      ]
     },
     "execution_count": 58,
     "metadata": {},
     "output_type": "execute_result"
    }
   ],
   "source": [
    "X[:10,:]"
   ]
  },
  {
   "cell_type": "code",
   "execution_count": 59,
   "metadata": {},
   "outputs": [],
   "source": [
    "from sklearn.model_selection import train_test_split\n",
    "\n",
    "X_train, X_test, y_train, y_test = train_test_split(X,y,test_size=0.2,random_state=666)"
   ]
  },
  {
   "cell_type": "code",
   "execution_count": 62,
   "metadata": {},
   "outputs": [],
   "source": [
    "###均值方差归一化StandardScaler\n",
    "\n",
    "from sklearn.preprocessing import StandardScaler"
   ]
  },
  {
   "cell_type": "code",
   "execution_count": 63,
   "metadata": {},
   "outputs": [
    {
     "data": {
      "text/plain": [
       "StandardScaler(copy=True, with_mean=True, with_std=True)"
      ]
     },
     "execution_count": 63,
     "metadata": {},
     "output_type": "execute_result"
    }
   ],
   "source": [
    "standard = StandardScaler()\n",
    "standard.fit(X_train)"
   ]
  },
  {
   "cell_type": "code",
   "execution_count": 65,
   "metadata": {},
   "outputs": [
    {
     "data": {
      "text/plain": [
       "array([5.83416667, 3.08666667, 3.70833333, 1.17      ])"
      ]
     },
     "execution_count": 65,
     "metadata": {},
     "output_type": "execute_result"
    }
   ],
   "source": [
    "standard.mean_  #########每列都单独计算 ！！！"
   ]
  },
  {
   "cell_type": "code",
   "execution_count": 67,
   "metadata": {},
   "outputs": [
    {
     "data": {
      "text/plain": [
       "array([0.81019502, 0.44327067, 1.76401924, 0.75317107])"
      ]
     },
     "execution_count": 67,
     "metadata": {},
     "output_type": "execute_result"
    }
   ],
   "source": [
    "standard.scale_  ######### 标准差。（方差的std名称被弃用了"
   ]
  },
  {
   "cell_type": "code",
   "execution_count": 71,
   "metadata": {},
   "outputs": [
    {
     "data": {
      "text/plain": [
       "array([[ -8.31938844,  -4.85979375,  -2.84401549,  -3.2633861 ],\n",
       "       [ -8.62407329,  -7.40446691,  -2.84401549,  -3.2633861 ],\n",
       "       [ -7.4053339 ,  -8.42233617,  -1.9763404 ,  -1.32426282],\n",
       "       [ -6.64362178,  -5.36872838,  -1.55857092,   0.43857653],\n",
       "       [ -8.31938844,  -9.94914006,  -2.32983766,  -1.67683069],\n",
       "       [ -5.4248824 ,  -6.38659765,  -1.78352372,  -1.14797889],\n",
       "       [ -6.79596421,  -9.44020543,  -1.49429869,  -1.14797889],\n",
       "       [ -4.51082786,  -7.40446691,  -1.17293754,   0.08600866],\n",
       "       [ -8.16704602,  -1.80618597,  -2.81187937,  -3.43967004],\n",
       "       [ -6.64362178, -11.47594395,  -1.84779594,  -0.97169495],\n",
       "       [ -4.96785513,  -7.91340154,  -1.26934589,  -0.44284315],\n",
       "       [ -6.33893694,  -6.38659765,  -1.59070703,   0.43857653],\n",
       "       [ -6.94830663,  -5.36872838,  -1.84779594,  -0.79541102],\n",
       "       [ -8.16704602,  -8.9312708 ,  -2.04061263,  -1.14797889],\n",
       "       [ -7.86236117,  -3.84192449,  -2.81187937,  -3.2633861 ],\n",
       "       [ -8.01470359,  -3.84192449,  -2.81187937,  -3.2633861 ],\n",
       "       [ -8.47173087,  -4.85979375,  -2.77974326,  -2.55825036],\n",
       "       [ -9.38578541,  -7.91340154,  -2.84401549,  -3.2633861 ],\n",
       "       [ -7.25299148,  -8.9312708 ,  -2.04061263,  -1.50054676],\n",
       "       [ -8.16704602,  -5.36872838,  -2.84401549,  -3.2633861 ],\n",
       "       [ -9.08110056,  -5.36872838,  -2.84401549,  -3.08710217],\n",
       "       [ -6.18659451,  -6.38659765,  -1.65497926,  -0.09027528],\n",
       "       [ -7.4053339 ,  -7.91340154,  -1.94420429,  -1.32426282],\n",
       "       [ -6.03425209,  -7.40446691,  -1.87993206,  -1.14797889],\n",
       "       [ -6.94830663,  -7.91340154,  -1.84779594,  -0.97169495],\n",
       "       [ -8.92875814,  -6.38659765,  -2.77974326,  -3.2633861 ],\n",
       "       [ -8.62407329,  -4.35085912,  -2.84401549,  -3.43967004],\n",
       "       [ -5.88190967,  -6.89553228,  -1.49429869,   0.61486046],\n",
       "       [ -6.49127936,  -8.9312708 ,  -1.71925149,  -0.44284315],\n",
       "       [ -6.79596421,  -8.42233617,  -1.78352372,  -1.50054676],\n",
       "       [ -6.64362178,  -8.42233617,  -1.7513876 ,  -0.44284315],\n",
       "       [ -7.4053339 ,  -0.27938208,  -2.81187937,  -2.91081823],\n",
       "       [ -6.49127936,  -9.94914006,  -1.71925149,  -0.97169495],\n",
       "       [ -6.33893694,  -7.91340154,  -1.91206817,  -1.32426282],\n",
       "       [ -8.31938844,  -3.33298986,  -2.68333492,  -2.91081823],\n",
       "       [ -5.72956724,  -8.42233617,  -1.7513876 ,  -1.14797889],\n",
       "       [ -8.31938844,  -4.85979375,  -2.84401549,  -3.08710217],\n",
       "       [ -9.53812783,  -7.40446691,  -2.94042383,  -3.43967004],\n",
       "       [ -7.10064905,  -7.40446691,  -1.65497926,  -0.44284315],\n",
       "       [ -6.33893694,  -8.42233617,  -1.49429869,   0.08600866],\n",
       "       [ -7.55767632,  -8.42233617,  -1.71925149,  -0.09027528],\n",
       "       [ -7.71001875, -10.45807469,  -2.10488486,  -1.85311463],\n",
       "       [ -5.57722482,  -6.89553228,  -1.71925149,  -0.97169495],\n",
       "       [ -6.49127936,  -5.36872838,  -1.49429869,   0.61486046],\n",
       "       [ -6.18659451,  -7.40446691,  -1.43002646,   0.26229259],\n",
       "       [ -7.4053339 ,  -3.33298986,  -2.74760714,  -3.08710217],\n",
       "       [ -6.03425209,  -7.91340154,  -1.81565983,  -1.32426282],\n",
       "       [ -5.88190967,  -5.87766301,  -1.46216257,   0.79114439],\n",
       "       [ -8.77641571,  -7.40446691,  -2.84401549,  -3.43967004],\n",
       "       [ -8.47173087,  -4.35085912,  -2.84401549,  -3.2633861 ],\n",
       "       [ -6.94830663,  -7.40446691,  -1.7513876 ,  -0.44284315],\n",
       "       [ -8.47173087,  -7.40446691,  -2.77974326,  -3.2633861 ],\n",
       "       [ -6.79596421,  -7.40446691,  -1.71925149,  -0.44284315],\n",
       "       [ -6.33893694,  -6.89553228,  -1.5264348 ,  -0.44284315],\n",
       "       [ -8.31938844,  -3.84192449,  -2.81187937,  -2.91081823],\n",
       "       [ -7.4053339 ,  -7.40446691,  -1.94420429,  -1.50054676],\n",
       "       [ -8.47173087,  -4.85979375,  -2.8761516 ,  -3.08710217],\n",
       "       [ -8.31938844,  -3.33298986,  -2.81187937,  -3.08710217],\n",
       "       [ -9.08110056,  -6.38659765,  -2.84401549,  -3.2633861 ],\n",
       "       [ -7.86236117,  -7.40446691,  -1.84779594,  -0.97169495],\n",
       "       [ -6.18659451,  -8.42233617,  -1.81565983,  -0.97169495],\n",
       "       [ -6.79596421,  -8.42233617,  -2.00847652,  -1.32426282],\n",
       "       [ -8.77641571,  -5.36872838,  -2.77974326,  -3.2633861 ],\n",
       "       [ -8.31938844,  -5.87766301,  -2.74760714,  -2.7345343 ],\n",
       "       [ -7.25299148,  -8.9312708 ,  -1.65497926,  -0.26655921],\n",
       "       [ -7.55767632,  -7.40446691,  -1.9763404 ,  -1.32426282],\n",
       "       [ -6.49127936,  -8.42233617,  -1.65497926,  -0.97169495],\n",
       "       [ -5.88190967,  -5.87766301,  -1.46216257,   0.08600866],\n",
       "       [ -5.12019755,  -7.40446691,  -1.43002646,  -0.79541102],\n",
       "       [ -5.88190967,  -7.40446691,  -1.62284314,   0.43857653],\n",
       "       [ -8.62407329,  -6.89553228,  -2.81187937,  -3.43967004],\n",
       "       [ -8.62407329,  -9.94914006,  -1.84779594,  -0.61912708],\n",
       "       [ -7.4053339 ,  -9.94914006,  -1.68711537,  -0.09027528],\n",
       "       [ -8.62407329, -10.45807469,  -2.23342932,  -1.85311463],\n",
       "       [ -7.71001875, -10.45807469,  -2.07274874,  -1.67683069],\n",
       "       [ -5.88190967,  -9.94914006,  -1.43002646,  -0.44284315],\n",
       "       [ -6.18659451,  -7.40446691,  -1.5264348 ,  -0.44284315],\n",
       "       [ -7.4053339 ,  -9.44020543,  -2.16915709,  -1.85311463],\n",
       "       [ -6.94830663, -11.47594395,  -1.68711537,  -0.97169495],\n",
       "       [ -5.88190967,  -6.89553228,  -1.78352372,  -0.97169495],\n",
       "       [ -8.62407329,  -6.89553228,  -2.81187937,  -3.2633861 ],\n",
       "       [ -6.49127936,  -9.94914006,  -1.68711537,  -0.26655921],\n",
       "       [ -8.92875814,  -6.38659765,  -2.8761516 ,  -3.2633861 ],\n",
       "       [ -6.94830663,  -8.9312708 ,  -1.65497926,  -0.79541102],\n",
       "       [ -7.25299148,  -9.44020543,  -2.00847652,  -1.50054676],\n",
       "       [ -5.57722482,  -6.38659765,  -1.46216257,   0.43857653],\n",
       "       [ -9.38578541,  -7.40446691,  -2.8761516 ,  -3.2633861 ],\n",
       "       [ -5.27253997,  -7.40446691,  -1.39789034,   0.08600866],\n",
       "       [ -5.72956724,  -6.38659765,  -1.39789034,   0.43857653],\n",
       "       [ -8.16704602,  -4.85979375,  -2.81187937,  -3.2633861 ],\n",
       "       [ -4.05380059,  -3.33298986,  -1.23720977,  -0.09027528],\n",
       "       [ -6.33893694,  -8.42233617,  -1.49429869,   0.26229259],\n",
       "       [ -7.55767632,  -7.91340154,  -2.13702097,  -1.32426282],\n",
       "       [ -7.71001875,  -1.29725134,  -2.84401549,  -3.2633861 ],\n",
       "       [ -8.77641571,  -7.40446691,  -2.84401549,  -3.08710217],\n",
       "       [ -6.49127936,  -7.91340154,  -1.49429869,  -0.44284315],\n",
       "       [ -9.38578541,  -6.38659765,  -2.8761516 ,  -3.2633861 ],\n",
       "       [ -7.86236117,  -2.82405523,  -2.74760714,  -2.91081823],\n",
       "       [ -8.47173087,  -5.36872838,  -2.77974326,  -2.91081823],\n",
       "       [ -5.88190967,  -7.40446691,  -1.68711537,  -0.61912708],\n",
       "       [ -7.86236117,  -2.82405523,  -2.8761516 ,  -2.91081823],\n",
       "       [ -4.35848543,  -8.42233617,  -1.14080143,  -0.09027528],\n",
       "       [ -7.55767632,  -8.9312708 ,  -1.94420429,  -1.32426282],\n",
       "       [ -5.72956724,  -7.40446691,  -1.5264348 ,   0.08600866],\n",
       "       [ -7.71001875,  -4.85979375,  -2.8761516 ,  -3.2633861 ],\n",
       "       [ -8.77641571,  -5.36872838,  -2.68333492,  -3.2633861 ],\n",
       "       [ -7.86236117,  -5.36872838,  -2.74760714,  -3.2633861 ],\n",
       "       [ -4.35848543,  -3.33298986,  -1.14080143,   0.26229259],\n",
       "       [ -5.57722482,  -6.89553228,  -1.55857092,   0.08600866],\n",
       "       [ -7.55767632,  -9.94914006,  -2.04061263,  -1.67683069],\n",
       "       [ -8.31938844,  -5.36872838,  -2.81187937,  -3.2633861 ],\n",
       "       [ -8.31938844,  -3.33298986,  -2.77974326,  -3.2633861 ],\n",
       "       [ -6.79596421,  -7.91340154,  -1.78352372,  -1.14797889],\n",
       "       [ -7.25299148,  -2.3151206 ,  -2.90828772,  -3.2633861 ],\n",
       "       [ -8.47173087, -12.49381321,  -2.16915709,  -1.85311463],\n",
       "       [ -6.33893694,  -6.38659765,  -1.84779594,  -0.97169495],\n",
       "       [ -6.79596421,  -7.40446691,  -1.81565983,  -1.14797889],\n",
       "       [ -7.10064905,  -6.38659765,  -1.7513876 ,  -0.44284315],\n",
       "       [ -6.94830663, -11.47594395,  -2.00847652,  -1.85311463],\n",
       "       [ -4.8155127 ,  -8.42233617,  -1.33361812,  -0.26655921]])"
      ]
     },
     "execution_count": 71,
     "metadata": {},
     "output_type": "execute_result"
    }
   ],
   "source": [
    "X_train = standard.transform(X_train)   ### 均值方差归一化后的结果\n",
    "                                        ### 并未改变X_train的结果，需要赋值\n",
    "X_train"
   ]
  },
  {
   "cell_type": "code",
   "execution_count": 72,
   "metadata": {},
   "outputs": [
    {
     "data": {
      "text/plain": [
       "array([[ -7.55767632,  -7.40446691,  -1.84779594,  -0.97169495],\n",
       "       [ -7.25299148,  -8.42233617,  -1.65497926,   0.61486046],\n",
       "       [ -8.47173087, -10.96700932,  -2.23342932,  -1.85311463],\n",
       "       [ -7.25299148,  -8.9312708 ,  -1.65497926,  -0.26655921],\n",
       "       [ -9.08110056,  -6.89553228,  -2.81187937,  -3.2633861 ],\n",
       "       [ -7.71001875,  -9.94914006,  -2.00847652,  -1.32426282],\n",
       "       [ -7.4053339 ,  -8.42233617,  -1.84779594,  -1.32426282],\n",
       "       [ -6.18659451,  -7.40446691,  -1.62284314,  -0.09027528],\n",
       "       [ -6.49127936, -10.96700932,  -1.87993206,  -1.32426282],\n",
       "       [ -7.71001875,  -9.44020543,  -1.87993206,  -1.50054676],\n",
       "       [ -5.88190967,  -6.89553228,  -1.87993206,  -1.14797889],\n",
       "       [ -9.23344298, -10.96700932,  -2.8761516 ,  -3.08710217],\n",
       "       [ -8.77641571,  -6.89553228,  -2.77974326,  -3.2633861 ],\n",
       "       [ -7.86236117,  -5.36872838,  -2.81187937,  -2.91081823],\n",
       "       [ -5.12019755,  -4.35085912,  -1.33361812,   0.79114439],\n",
       "       [ -7.25299148,  -8.9312708 ,  -1.9763404 ,  -1.85311463],\n",
       "       [ -9.08110056,  -4.35085912,  -2.97255994,  -3.2633861 ],\n",
       "       [ -5.12019755,  -6.38659765,  -1.36575423,  -0.44284315],\n",
       "       [ -5.57722482,  -6.89553228,  -1.65497926,   0.43857653],\n",
       "       [ -6.33893694,  -8.9312708 ,  -1.59070703,  -0.26655921],\n",
       "       [ -6.49127936,  -5.87766301,  -1.78352372,  -0.79541102],\n",
       "       [ -8.47173087,  -5.36872838,  -2.81187937,  -3.2633861 ],\n",
       "       [ -4.35848543,  -9.44020543,  -1.0765292 ,   0.43857653],\n",
       "       [ -8.47173087,  -5.87766301,  -2.84401549,  -3.2633861 ],\n",
       "       [ -6.64362178,  -7.91340154,  -1.91206817,  -1.32426282],\n",
       "       [ -7.10064905,  -7.40446691,  -1.94420429,  -0.97169495],\n",
       "       [ -8.47173087,  -6.38659765,  -2.90828772,  -3.2633861 ],\n",
       "       [ -7.71001875, -10.96700932,  -2.00847652,  -1.32426282],\n",
       "       [ -6.49127936,  -5.87766301,  -1.36575423,   0.79114439],\n",
       "       [ -4.35848543,  -7.40446691,  -1.33361812,   0.43857653]])"
      ]
     },
     "execution_count": 72,
     "metadata": {},
     "output_type": "execute_result"
    }
   ],
   "source": [
    "X_test = standard.transform(X_test)     ### 用fit过后的模型给test归一化\n",
    "X_test"
   ]
  },
  {
   "cell_type": "code",
   "execution_count": 73,
   "metadata": {},
   "outputs": [],
   "source": [
    "from sklearn.neighbors import KNeighborsClassifier"
   ]
  },
  {
   "cell_type": "code",
   "execution_count": 74,
   "metadata": {},
   "outputs": [],
   "source": [
    "knn_clf = KNeighborsClassifier(n_neighbors=3)"
   ]
  },
  {
   "cell_type": "code",
   "execution_count": 75,
   "metadata": {},
   "outputs": [
    {
     "data": {
      "text/plain": [
       "KNeighborsClassifier(algorithm='auto', leaf_size=30, metric='minkowski',\n",
       "                     metric_params=None, n_jobs=None, n_neighbors=3, p=2,\n",
       "                     weights='uniform')"
      ]
     },
     "execution_count": 75,
     "metadata": {},
     "output_type": "execute_result"
    }
   ],
   "source": [
    "knn_clf.fit(X_train,y_train)     ##### 这里的y_train只是个类型，不用归一化"
   ]
  },
  {
   "cell_type": "code",
   "execution_count": 77,
   "metadata": {},
   "outputs": [
    {
     "data": {
      "text/plain": [
       "0.9333333333333333"
      ]
     },
     "execution_count": 77,
     "metadata": {},
     "output_type": "execute_result"
    }
   ],
   "source": [
    "knn_clf.score(X_test,y_test)"
   ]
  },
  {
   "cell_type": "code",
   "execution_count": null,
   "metadata": {},
   "outputs": [],
   "source": [
    "### 最值归一化MinMaxScale \n",
    "见文档"
   ]
  }
 ],
 "metadata": {
  "kernelspec": {
   "display_name": "Python 3",
   "language": "python",
   "name": "python3"
  },
  "language_info": {
   "codemirror_mode": {
    "name": "ipython",
    "version": 3
   },
   "file_extension": ".py",
   "mimetype": "text/x-python",
   "name": "python",
   "nbconvert_exporter": "python",
   "pygments_lexer": "ipython3",
   "version": "3.7.4"
  }
 },
 "nbformat": 4,
 "nbformat_minor": 2
}
