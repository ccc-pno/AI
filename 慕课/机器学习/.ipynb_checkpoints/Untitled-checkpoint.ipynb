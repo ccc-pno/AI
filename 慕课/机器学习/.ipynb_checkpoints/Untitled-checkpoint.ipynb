{
 "cells": [
  {
   "cell_type": "code",
   "execution_count": 18,
   "metadata": {},
   "outputs": [
    {
     "name": "stdout",
     "output_type": "stream",
     "text": [
      "emotions:train - exists, not redownloading\n",
      "emotions:test - exists, not redownloading\n"
     ]
    }
   ],
   "source": [
    "from skmultilearn.dataset import load_dataset\n",
    "X_train, y_train, feature_names, label_names = load_dataset('emotions', 'train')\n",
    "X_test, y_test, _, _ = load_dataset('emotions', 'test')"
   ]
  },
  {
   "cell_type": "code",
   "execution_count": 74,
   "metadata": {},
   "outputs": [
    {
     "name": "stderr",
     "output_type": "stream",
     "text": [
      "D:\\Anaconda3\\envs\\pytorch\\lib\\site-packages\\skmultilearn\\cluster\\matrix.py:81: VisibleDeprecationWarning: Creating an ndarray from ragged nested sequences (which is a list-or-tuple of lists-or-tuples-or ndarrays with different lengths or shapes) is deprecated. If you meant to do this, you must specify 'dtype=object' when creating the ndarray\n",
      "  return np.array(_membership_to_list_of_communities(result, 1 + max(result)))\n"
     ]
    }
   ],
   "source": [
    "from sklearn.ensemble import RandomForestClassifier\n",
    "from sklearn.cluster import KMeans\n",
    "from skmultilearn.problem_transform import LabelPowerset\n",
    "from skmultilearn.cluster import MatrixLabelSpaceClusterer\n",
    "from skmultilearn.ensemble import LabelSpacePartitioningClassifier\n",
    "\n",
    "# construct base forest classifier\n",
    "base_classifier = RandomForestClassifier(n_estimators=1030)\n",
    "\n",
    "# setup problem transformation approach with sparse matrices for random forest\n",
    "problem_transform_classifier = LabelPowerset(classifier=base_classifier,\n",
    "    require_dense=[False, False])\n",
    "\n",
    "# setup the clusterer\n",
    "clusterer = MatrixLabelSpaceClusterer(clusterer=KMeans(n_clusters=3))\n",
    "\n",
    "# setup the ensemble metaclassifier\n",
    "classifier = LabelSpacePartitioningClassifier(problem_transform_classifier, clusterer)\n",
    "\n",
    "# train\n",
    "classifier.fit(X_train, y_train)\n",
    "\n",
    "# predict\n",
    "predictions = classifier.predict(X_test)"
   ]
  },
  {
   "cell_type": "code",
   "execution_count": 76,
   "metadata": {},
   "outputs": [
    {
     "data": {
      "text/plain": [
       "[[1, 2, 3], [0, 4]]"
      ]
     },
     "execution_count": 76,
     "metadata": {},
     "output_type": "execute_result"
    }
   ],
   "source": [
    "clusterer = FixedLabelSpaceClusterer(clusters=[[1,2,3], [0,4]])\n",
    "clusterer.fit_predict(X_train,y_train)"
   ]
  },
  {
   "cell_type": "code",
   "execution_count": 77,
   "metadata": {},
   "outputs": [
    {
     "name": "stderr",
     "output_type": "stream",
     "text": [
      "D:\\Anaconda3\\envs\\pytorch\\lib\\site-packages\\skmultilearn\\cluster\\matrix.py:81: VisibleDeprecationWarning: Creating an ndarray from ragged nested sequences (which is a list-or-tuple of lists-or-tuples-or ndarrays with different lengths or shapes) is deprecated. If you meant to do this, you must specify 'dtype=object' when creating the ndarray\n",
      "  return np.array(_membership_to_list_of_communities(result, 1 + max(result)))\n"
     ]
    },
    {
     "data": {
      "text/plain": [
       "array([list([0, 5]), list([2, 3, 4]), list([1])], dtype=object)"
      ]
     },
     "execution_count": 77,
     "metadata": {},
     "output_type": "execute_result"
    }
   ],
   "source": [
    "clusterer = MatrixLabelSpaceClusterer(clusterer=KMeans(n_clusters=3))\n",
    "clusterer.fit_predict(X_train,y_train)"
   ]
  },
  {
   "cell_type": "code",
   "execution_count": 62,
   "metadata": {},
   "outputs": [
    {
     "data": {
      "text/plain": [
       "array([[0, 2, 3],\n",
       "       [1, 2, 5],\n",
       "       [2, 0, 4]])"
      ]
     },
     "execution_count": 62,
     "metadata": {},
     "output_type": "execute_result"
    }
   ],
   "source": [
    "from skmultilearn.cluster import RandomLabelSpaceClusterer\n",
    "\n",
    "try:\n",
    "    X_train = X_train.toarray()\n",
    "    y_train = y_train.toarray()\n",
    "except:\n",
    "    pass\n",
    "# assume X,y contain the data, example y contains 5 labels\n",
    "cluster_count = 2   # 比cluster_count多1\n",
    "cluster_size =  y_train.shape[1]//cluster_count # 每个子集标签的数量,不能为1！\n",
    "clr = RandomLabelSpaceClusterer(cluster_size, cluster_count, allow_overlap=True)\n",
    "clr.fit_predict(X_train, y_train)"
   ]
  },
  {
   "cell_type": "code",
   "execution_count": 27,
   "metadata": {},
   "outputs": [
    {
     "data": {
      "text/plain": [
       "0.19352088661551578"
      ]
     },
     "execution_count": 27,
     "metadata": {},
     "output_type": "execute_result"
    }
   ],
   "source": [
    "from sklearn.naive_bayes import GaussianNB\n",
    "from skmultilearn.ensemble import RakelD\n",
    "from sklearn.metrics import hamming_loss\n",
    "\n",
    "classifier = RakelD(\n",
    "    base_classifier=GaussianNB(),\n",
    "    base_classifier_require_dense=[True, True],\n",
    "    labelset_size=3    # 每个子集标签的数量\n",
    ")\n",
    "\n",
    "classifier.fit(X_train, y_train)\n",
    "prediction = classifier.predict(X_train)\n",
    "hamming_loss(prediction,y_train)"
   ]
  },
  {
   "cell_type": "code",
   "execution_count": 63,
   "metadata": {
    "scrolled": true
   },
   "outputs": [
    {
     "data": {
      "text/plain": [
       "0.19011082693947143"
      ]
     },
     "execution_count": 63,
     "metadata": {},
     "output_type": "execute_result"
    }
   ],
   "source": [
    "from sklearn.naive_bayes import GaussianNB\n",
    "from skmultilearn.ensemble import RakelO\n",
    "\n",
    "classifier = RakelO(\n",
    "    base_classifier=GaussianNB(),\n",
    "    base_classifier_require_dense=[True, True],\n",
    "    labelset_size=3, # 每个子集标签的数量,不能为1！\n",
    "    model_count=2\n",
    ")\n",
    "\n",
    "classifier.fit(X_train, y_train)\n",
    "prediction = classifier.predict(X_train)\n",
    "hamming_loss(prediction,y_train)"
   ]
  },
  {
   "cell_type": "code",
   "execution_count": 34,
   "metadata": {},
   "outputs": [
    {
     "data": {
      "text/plain": [
       "array([[0, 1, 1, 0, 0, 0],\n",
       "       [1, 0, 0, 0, 0, 1],\n",
       "       [0, 1, 0, 0, 0, 1],\n",
       "       ...,\n",
       "       [0, 1, 1, 0, 0, 0],\n",
       "       [0, 0, 0, 1, 1, 0],\n",
       "       [0, 1, 1, 0, 0, 0]], dtype=int64)"
      ]
     },
     "execution_count": 34,
     "metadata": {},
     "output_type": "execute_result"
    }
   ],
   "source": [
    "y_train"
   ]
  }
 ],
 "metadata": {
  "kernelspec": {
   "display_name": "Python 3",
   "language": "python",
   "name": "python3"
  },
  "language_info": {
   "codemirror_mode": {
    "name": "ipython",
    "version": 3
   },
   "file_extension": ".py",
   "mimetype": "text/x-python",
   "name": "python",
   "nbconvert_exporter": "python",
   "pygments_lexer": "ipython3",
   "version": "3.7.7"
  }
 },
 "nbformat": 4,
 "nbformat_minor": 4
}
