{
 "cells": [
  {
   "cell_type": "code",
   "execution_count": 2,
   "metadata": {
    "scrolled": true
   },
   "outputs": [
    {
     "data": {
      "text/plain": [
       "'1.13.1'"
      ]
     },
     "execution_count": 2,
     "metadata": {},
     "output_type": "execute_result"
    }
   ],
   "source": [
    "import tensorflow as tf\n",
    "\n",
    "tf.__version__"
   ]
  },
  {
   "cell_type": "code",
   "execution_count": 1,
   "metadata": {},
   "outputs": [
    {
     "data": {
      "text/plain": [
       "'1.5.0'"
      ]
     },
     "execution_count": 1,
     "metadata": {},
     "output_type": "execute_result"
    }
   ],
   "source": [
    "import torch\n",
    "\n",
    "torch.__version__"
   ]
  },
  {
   "cell_type": "code",
   "execution_count": 5,
   "metadata": {},
   "outputs": [
    {
     "ename": "ModuleNotFoundError",
     "evalue": "No module named 'cpuid'",
     "output_type": "error",
     "traceback": [
      "\u001b[1;31m---------------------------------------------------------------------------\u001b[0m",
      "\u001b[1;31mModuleNotFoundError\u001b[0m                       Traceback (most recent call last)",
      "\u001b[1;32m<ipython-input-5-2d5e5494f481>\u001b[0m in \u001b[0;36m<module>\u001b[1;34m\u001b[0m\n\u001b[1;32m----> 1\u001b[1;33m \u001b[1;32mfrom\u001b[0m \u001b[0mcpuid\u001b[0m \u001b[1;32mimport\u001b[0m \u001b[1;33m*\u001b[0m\u001b[1;33m\u001b[0m\u001b[1;33m\u001b[0m\u001b[0m\n\u001b[0m\u001b[0;32m      2\u001b[0m \u001b[1;33m\u001b[0m\u001b[0m\n\u001b[0;32m      3\u001b[0m \u001b[1;32mdef\u001b[0m \u001b[0m_is_set\u001b[0m\u001b[1;33m(\u001b[0m\u001b[0mid\u001b[0m\u001b[1;33m,\u001b[0m \u001b[0mreg_idx\u001b[0m\u001b[1;33m,\u001b[0m \u001b[0mbit\u001b[0m\u001b[1;33m)\u001b[0m\u001b[1;33m:\u001b[0m\u001b[1;33m\u001b[0m\u001b[1;33m\u001b[0m\u001b[0m\n\u001b[0;32m      4\u001b[0m     \u001b[0mregs\u001b[0m \u001b[1;33m=\u001b[0m \u001b[0mcpuid\u001b[0m\u001b[1;33m(\u001b[0m\u001b[0mid\u001b[0m\u001b[1;33m)\u001b[0m\u001b[1;33m\u001b[0m\u001b[1;33m\u001b[0m\u001b[0m\n\u001b[0;32m      5\u001b[0m \u001b[1;33m\u001b[0m\u001b[0m\n",
      "\u001b[1;31mModuleNotFoundError\u001b[0m: No module named 'cpuid'"
     ]
    }
   ],
   "source": [
    "from cpuid import *\n",
    "\n",
    "def _is_set(id, reg_idx, bit):\n",
    "    regs = cpuid(id)\n",
    "\n",
    "    if (1 << bit) & regs[reg_idx]:\n",
    "        return \"Yes\"\n",
    "    else:\n",
    "        return \"--\"\n",
    "\n",
    "print(\"Vendor ID         : %s\" % cpu_vendor())\n",
    "print(\"CPU name          : %s\" % cpu_name())\n",
    "print(\"Microarchitecture : %s%s\" % cpu_microarchitecture())\n",
    "print(\"Vector instructions supported:\")\n",
    "print(\"SSE       : %s\" % _is_set(1, 3, 25))\n",
    "print(\"SSE2      : %s\" % _is_set(1, 3, 26))\n",
    "print(\"SSE3      : %s\" % _is_set(1, 2, 0))\n",
    "print(\"SSSE3     : %s\" % _is_set(1, 2, 9))\n",
    "print(\"SSE4.1    : %s\" % _is_set(1, 2, 19))\n",
    "print(\"SSE4.2    : %s\" % _is_set(1, 2, 20))\n",
    "print(\"SSE4a     : %s\" % _is_set(0x80000001, 2, 6))\n",
    "print(\"AVX       : %s\" % _is_set(1, 2, 28))\n",
    "print(\"AVX2      : %s\" % _is_set(7, 1, 5))\n",
    "print(\"BMI1      : %s\" % _is_set(7, 1, 3))\n",
    "print(\"BMI2      : %s\" % _is_set(7, 1, 8))"
   ]
  },
  {
   "cell_type": "code",
   "execution_count": null,
   "metadata": {},
   "outputs": [],
   "source": []
  }
 ],
 "metadata": {
  "kernelspec": {
   "display_name": "Python 3",
   "language": "python",
   "name": "python3"
  },
  "language_info": {
   "codemirror_mode": {
    "name": "ipython",
    "version": 3
   },
   "file_extension": ".py",
   "mimetype": "text/x-python",
   "name": "python",
   "nbconvert_exporter": "python",
   "pygments_lexer": "ipython3",
   "version": "3.7.7"
  }
 },
 "nbformat": 4,
 "nbformat_minor": 2
}
