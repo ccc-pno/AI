{
 "cells": [
  {
   "cell_type": "code",
   "execution_count": null,
   "metadata": {},
   "outputs": [],
   "source": [
    "# 余弦退火函数调整学习率 CosineAnnealingLR\n",
    "scheduler = torch.optim.lr_sheduler.CosineAnnealingLR(optimizer, T_max, eta_min=0, \n",
    "                                                      last_epoch=-1)\n",
    "\n",
    "# 等间隔调整学习率 StepLR\n",
    "scheduler = torch.optim.lr_scheduler.StepLR(optimizer, step_size, gamma=0.1, last_epoch=-1)\n",
    "\n",
    "# 多间隔调整学习率 MultiStepLR\n",
    "scheduler = torch.optim.lr_sheduler.MultiStepLR(optimizer, milestones, gamma=0.1, last_epoch=-1)\n",
    "\n",
    "# 指数衰减调整学习率 ExponentialLR\n",
    "scheduler = torch.optim.lr_sheduler.ExponentialLR(optimizer, gamma, last_epoch)"
   ]
  },
  {
   "cell_type": "code",
   "execution_count": null,
   "metadata": {},
   "outputs": [],
   "source": [
    "# 整体的用法：\n",
    "\n",
    "optimizer = torch.optim.SGD(model.parameters(), args.lr,\n",
    "momentum=args.momentum, weight_decay=args.weight_decay)\n",
    "\n",
    "scheduler = ReducelROnPlateau(optimizer,'min')\n",
    "for epoch in range( args.start epoch, args.epochs ):\n",
    "    train(train_loader , model, criterion, optimizer, epoch )\n",
    "    result_avg, loss_val = validate(val_loader, model, criterion, epoch)\n",
    "    # Note that step should be called after validate()\n",
    "    scheduler.step(loss_val )"
   ]
  },
  {
   "cell_type": "code",
   "execution_count": null,
   "metadata": {},
   "outputs": [],
   "source": []
  }
 ],
 "metadata": {
  "kernelspec": {
   "display_name": "Python 3",
   "language": "python",
   "name": "python3"
  },
  "language_info": {
   "codemirror_mode": {
    "name": "ipython",
    "version": 3
   },
   "file_extension": ".py",
   "mimetype": "text/x-python",
   "name": "python",
   "nbconvert_exporter": "python",
   "pygments_lexer": "ipython3",
   "version": "3.7.7"
  }
 },
 "nbformat": 4,
 "nbformat_minor": 4
}
