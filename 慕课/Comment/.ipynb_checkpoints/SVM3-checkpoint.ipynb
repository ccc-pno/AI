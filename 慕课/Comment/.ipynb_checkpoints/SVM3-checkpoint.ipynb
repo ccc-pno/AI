{
 "cells": [
  {
   "cell_type": "code",
   "execution_count": 1,
   "metadata": {},
   "outputs": [],
   "source": [
    "import numpy as np\n",
    "import matplotlib.pyplot as plt\n",
    "\n",
    "# 数据\n",
    "def loadDataSet():\n",
    "    iris = datasets.load_iris()\n",
    "    X = iris.data\n",
    "    y = iris.target\n",
    "    X = X[y<2, :2]\n",
    "    y = y[y<2]\n",
    "    \n",
    "    for i in range(len(y)):\n",
    "        if y[i] == 0:\n",
    "            y[i] = -1\n",
    "    print(y)\n",
    "    return X,y\n",
    "\n",
    "\n",
    "# 随机选取一个数J，为后面内循环选取α_2做辅助（如果α选取不满足条件，就选择这个方法随机选取）\n",
    "def selectJrand(i,m):   #主要就是根据α_1的索引i,从所有数据集索引中随机选取一个作为α_2的索引\n",
    "    j = i\n",
    "    while j==i:\n",
    "        j = np.int(np.random.uniform(0,m)) #从0~m中随机选取一个数，是进行整数化的\n",
    "    print(\"random choose index for α_2:%d\"%(j))\n",
    "    return j    #由于这里返回随机数，所以后面结果 可能导致不同\n",
    "\n",
    "\n",
    "# 剪辑\n",
    "def clipAlpha(aj,H,L): \n",
    "    if aj > H:\n",
    "        aj = H\n",
    "    if aj < L:\n",
    "        aj = L\n",
    "    return aj\n",
    "\n",
    "\n",
    "class optStruct:\n",
    "    def __init__(self,data_X,data_Y,C,toler):\n",
    "        self.X = data_X\n",
    "        self.label = data_Y\n",
    "        self.C = C\n",
    "        self.toler  = toler\n",
    "        self.m = data_X.shape[0]\n",
    "        self.alphas = np.zeros(self.m)\n",
    "        self.eCache = np.zeros((self.m,2))    #Ei，第一列存放有效标志，第二列存放Ei\n",
    "        \n",
    "def calcEk(oS,k):\n",
    "    fXk = float(np.multiply(oS.alphas,oS.labelMat).T*oS.K[:,k] + oS.b)\n",
    " 53     Ek = fXk - float(oS.labelMat[k])"
   ]
  },
  {
   "cell_type": "code",
   "execution_count": 2,
   "metadata": {},
   "outputs": [
    {
     "ename": "TypeError",
     "evalue": "unsupported operand type(s) for @: 'int' and 'int'",
     "output_type": "error",
     "traceback": [
      "\u001b[1;31m---------------------------------------------------------------------------\u001b[0m",
      "\u001b[1;31mTypeError\u001b[0m                                 Traceback (most recent call last)",
      "\u001b[1;32m<ipython-input-2-4b556032f2ce>\u001b[0m in \u001b[0;36m<module>\u001b[1;34m\u001b[0m\n\u001b[1;32m----> 1\u001b[1;33m \u001b[1;36m1\u001b[0m\u001b[1;33m@\u001b[0m\u001b[1;36m1\u001b[0m\u001b[1;33m\u001b[0m\u001b[1;33m\u001b[0m\u001b[0m\n\u001b[0m",
      "\u001b[1;31mTypeError\u001b[0m: unsupported operand type(s) for @: 'int' and 'int'"
     ]
    }
   ],
   "source": [
    "1@1"
   ]
  },
  {
   "cell_type": "code",
   "execution_count": null,
   "metadata": {},
   "outputs": [],
   "source": []
  }
 ],
 "metadata": {
  "kernelspec": {
   "display_name": "Python 3",
   "language": "python",
   "name": "python3"
  },
  "language_info": {
   "codemirror_mode": {
    "name": "ipython",
    "version": 3
   },
   "file_extension": ".py",
   "mimetype": "text/x-python",
   "name": "python",
   "nbconvert_exporter": "python",
   "pygments_lexer": "ipython3",
   "version": "3.7.7"
  }
 },
 "nbformat": 4,
 "nbformat_minor": 4
}
