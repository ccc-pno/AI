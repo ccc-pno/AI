{
 "cells": [
  {
   "cell_type": "code",
   "execution_count": null,
   "metadata": {},
   "outputs": [],
   "source": [
    "data.DataLoader(\n",
    "    dataset,\n",
    "    batch_size=1,\n",
    "    shuffle=False,\n",
    "    sampler=None,\n",
    "    batch_sampler=None,\n",
    "    num_workers=0,\n",
    "    collate_fn=<function default_collate at 0x7f108ee01620>,\n",
    "    pin_memory=False,\n",
    "    drop_last=False,\n",
    "    timeout=0,\n",
    "    worker_init_fn=None,\n",
    ")\n",
    "\n",
    "\n",
    "主要参数说明：\n",
    "·dataset：加载的数据集。\n",
    "·batch_size：批大小。\n",
    "·shuffle：是否将数据打乱。\n",
    "·sampler：样本抽样。\n",
    "·num_workers：使用多进程加载的进程数，0代表不使用多进程。\n",
    "·collate_fn：如何将多个样本数据拼接成一个batch，一般使用默认的拼接方式即可。\n",
    "·pin_memory：是否将数据保存在pin memory区，pin memory中的数据转到GPU会快一些。\n",
    "·drop_last：dataset中的数据个数可能不是batch_size的整数倍，drop_last为True会将多出来不足一个batch的数据丢弃。"
   ]
  }
 ],
 "metadata": {
  "kernelspec": {
   "display_name": "Python 3",
   "language": "python",
   "name": "python3"
  },
  "language_info": {
   "codemirror_mode": {
    "name": "ipython",
    "version": 3
   },
   "file_extension": ".py",
   "mimetype": "text/x-python",
   "name": "python",
   "nbconvert_exporter": "python",
   "pygments_lexer": "ipython3",
   "version": "3.7.7"
  }
 },
 "nbformat": 4,
 "nbformat_minor": 4
}
