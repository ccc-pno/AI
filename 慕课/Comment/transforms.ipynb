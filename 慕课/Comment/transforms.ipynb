{
 "cells": [
  {
   "cell_type": "code",
   "execution_count": null,
   "metadata": {},
   "outputs": [],
   "source": [
    "1）对PIL Image的常见操作如下。\n",
    "·Scale/Resize：调整尺寸，长宽比保持不变。\n",
    "·CenterCrop、RandomCrop、RandomSizedCrop：裁剪图片，CenterCrop和RandomCrop在crop时是固定size，RandomResizedCrop则是random size的crop。\n",
    "·Pad：填充。\n",
    "·ToTensor：把一个取值范围是[0,255]的PIL.Image转换成Tensor。形状为（H,W,C）的Numpy.ndarray转换成形状为[C,H,W]，取值范围是[0,1.0]的torch.FloatTensor。\n",
    "·RandomHorizontalFlip：图像随机水平翻转，翻转概率为0.5。\n",
    "·RandomVerticalFlip：图像随机垂直翻转。\n",
    "·ColorJitter：修改亮度、对比度和饱和度。\n",
    "2）对Tensor的常见操作如下。\n",
    "·Normalize：标准化，即，减均值，除以标准差。\n",
    "·ToPILImage：将Tensor转为PIL Image。\n",
    "\n",
    "\n",
    "\n",
    "transforms.Compose([\n",
    "  #将给定的 PIL.Image 进行中心切割, 得到给定的 size, \n",
    "  #size 可以是 tuple, (target_height, target_width)。\n",
    "  #size 也可以是一个 Integer, 在这种情况下, 切出来的图片形状是正方形。            \n",
    "  transforms.CenterCrop(10),\n",
    "  #切割中心点的位置随机选取\n",
    "  transforms.RandomCrop(20, padding=0),\n",
    "  #把一个取值范围是 [0, 255] 的 PIL.Image 或者 shape 为 (H, W, C) 的 numpy.ndarray, \n",
    "  #转换为形状为 (C, H, W), 取值范围是 [0, 1] 的 torch.FloatTensor\n",
    "  transforms.ToTensor(),\n",
    "  #规范化到[-1,1]\n",
    "  transforms.Normalize(mean = (0.5, 0.5, 0.5), std = (0.5, 0.5, 0.5))\n",
    "])"
   ]
  }
 ],
 "metadata": {
  "kernelspec": {
   "display_name": "Python 3",
   "language": "python",
   "name": "python3"
  },
  "language_info": {
   "codemirror_mode": {
    "name": "ipython",
    "version": 3
   },
   "file_extension": ".py",
   "mimetype": "text/x-python",
   "name": "python",
   "nbconvert_exporter": "python",
   "pygments_lexer": "ipython3",
   "version": "3.7.7"
  }
 },
 "nbformat": 4,
 "nbformat_minor": 4
}
